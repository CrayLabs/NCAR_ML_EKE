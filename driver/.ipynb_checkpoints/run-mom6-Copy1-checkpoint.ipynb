{
 "cells": [
  {
   "cell_type": "code",
   "execution_count": 1,
   "id": "usual-incidence",
   "metadata": {},
   "outputs": [],
   "source": [
    "import sys\n",
    "sys.path.append(\"/lus/cls01029/spartee/poseidon/smart-sim/\")"
   ]
  },
  {
   "cell_type": "markdown",
   "id": "legendary-blond",
   "metadata": {},
   "source": [
    "# Improving MOM6 Simulations with Machine Learning using SmartSim\n",
    " - In this notebook we demonstrate how to run Modular Ocean Model 6 (MOM6) with our the machine learned EKE parameterization\n",
    " - We show how to use SmartSim to launch the machine learning infrastructure so that the Fortran-based MOM6 and a Pytorch Model can communicate during the simulation.\n",
    " - The Pytorch Model is trained on 1/10 degree MOM6 output data and queried by a 1/4 degree MOM6 simulation to provide the value of Eddy Kinetic Energy in each subdomain of the model every timestep (6 hours)."
   ]
  },
  {
   "cell_type": "code",
   "execution_count": 2,
   "id": "suspended-referral",
   "metadata": {},
   "outputs": [],
   "source": [
    "# import SmartSim and the Slurm interface for obtaining allocations.\n",
    "from smartsim import Experiment, slurm\n",
    "from smartsim.utils.log import log_to_file"
   ]
  },
  {
   "cell_type": "code",
   "execution_count": 3,
   "id": "living-aviation",
   "metadata": {},
   "outputs": [],
   "source": [
    "# import some libraries for online data analysis\n",
    "import os\n",
    "import time\n",
    "import numpy as np\n",
    "import xarray as xr\n",
    "from os import environ\n",
    "import matplotlib.pyplot as plt"
   ]
  },
  {
   "cell_type": "markdown",
   "id": "spiritual-luxury",
   "metadata": {},
   "source": [
    "## 1.1) Create the SmartSim Experiment\n",
    " - The SmartSim library provides the Experiment object as the main API for the user.\n",
    " - The Experiment API is used for starting, monitoring, tracking, and stopping jobs created by the user.\n",
    " - Each experiment has a specific \"launcher\" which communicates with the WLM of the host machine to launch jobs.\n",
    "    - Launcher options\n",
    "       - PBS\n",
    "       - Slurm\n",
    "       - Local\n",
    "       - Kubernetes (soon)\n",
    "       - Capsules (soon)"
   ]
  },
  {
   "cell_type": "code",
   "execution_count": 4,
   "id": "seven-capitol",
   "metadata": {},
   "outputs": [],
   "source": [
    "# Create the SmartSim Experiment. \n",
    "experiment = Experiment(\"AI-EKE-MOM6\", launcher=\"slurm\")"
   ]
  },
  {
   "cell_type": "markdown",
   "id": "irish-enterprise",
   "metadata": {},
   "source": [
    "## 1.2) Obtain Computational Resource Allocations \n",
    "   - When launching on Slurm, users can obtain an allocation and tell the SmartSim Experiment where to launch their applications\n",
    "   - Here we obtain two allocations. \n",
    "      1. An allocation for MOM6 on 64 Skylake compute nodes with 56 tasks running per node\n",
    "      2. An allocation for the orchestrator database on 15 Broadwell CPUs with 1 P100 GPU per node."
   ]
  },
  {
   "cell_type": "code",
   "execution_count": null,
   "id": "collected-uzbekistan",
   "metadata": {},
   "outputs": [],
   "source": [
    "\n",
    "# resource allocation settings\n",
    "database_nodes = 16\n",
    "database_alloc_opts = {\n",
    "    \"constraint\": \"P100\",\n",
    "    \"cpus-per-task\": 36,\n",
    "    \"ntasks-per-node\": 1,\n",
    "    \"exclusive\": None,\n",
    "    \"time\": \"10-00:00:00\"\n",
    "}\n",
    "\n",
    "mom6_compute_nodes = 74\n",
    "mom6_total_tasks = 3551\n",
    "mom6_alloc_opts = {\n",
    "    \"constraint\": \"SK48\",\n",
    "    \"ntasks-per-node\": 48,\n",
    "    \"exclusive\": None,\n",
    "    \"time\": \"10-00:00:00\"\n",
    "}\n",
    "\n",
    "# obtain allocations for the model and database through SmartSim\n",
    "mom6_alloc = slurm.get_slurm_allocation(nodes=mom6_compute_nodes,\n",
    "                                        add_opts=mom6_alloc_opts)\n",
    "db_alloc = slurm.get_slurm_allocation(nodes=database_nodes,\n",
    "                                      add_opts=database_alloc_opts)"
   ]
  },
  {
   "cell_type": "code",
   "execution_count": 5,
   "id": "recent-venture",
   "metadata": {},
   "outputs": [
    {
     "name": "stdout",
     "output_type": "stream",
     "text": [
      "17:35:12 horizon smartsim.launcher.slurm.slurm[1564] DEBUG Allocation settings: -N 300 -J SmartSim --constraint=[SK48,SK56,CL48] --ntasks-per-node=48 --exclusive --time=10-00:00:00\n",
      "17:35:12 horizon smartsim.launcher.slurm.slurm[1564] DEBUG salloc: error: Job submit/allocate failed: Requested node configuration is not available\n",
      "\n"
     ]
    },
    {
     "ename": "LauncherError",
     "evalue": "Job submit/allocate failed: Requested node configuration is not available",
     "output_type": "error",
     "traceback": [
      "\u001b[0;31m---------------------------------------------------------------------------\u001b[0m",
      "\u001b[0;31mLauncherError\u001b[0m                             Traceback (most recent call last)",
      "\u001b[0;32m<ipython-input-5-7878f454c020>\u001b[0m in \u001b[0;36m<module>\u001b[0;34m\u001b[0m\n\u001b[1;32m     21\u001b[0m \u001b[0;31m# obtain allocations for the model and database through SmartSim\u001b[0m\u001b[0;34m\u001b[0m\u001b[0;34m\u001b[0m\u001b[0;34m\u001b[0m\u001b[0m\n\u001b[1;32m     22\u001b[0m ens_alloc = slurm.get_slurm_allocation(nodes=ens_compute_nodes,\n\u001b[0;32m---> 23\u001b[0;31m                                         add_opts=ens_alloc_opts)\n\u001b[0m\u001b[1;32m     24\u001b[0m db_alloc = slurm.get_slurm_allocation(nodes=database_nodes,\n\u001b[1;32m     25\u001b[0m                                       add_opts=database_alloc_opts)\n",
      "\u001b[0;32m/lus/cls01029/spartee/poseidon/smart-sim/smartsim/launcher/slurm/slurm.py\u001b[0m in \u001b[0;36mget_slurm_allocation\u001b[0;34m(nodes, add_opts)\u001b[0m\n\u001b[1;32m     51\u001b[0m             \u001b[0mlogger\u001b[0m\u001b[0;34m.\u001b[0m\u001b[0merror\u001b[0m\u001b[0;34m(\u001b[0m\u001b[0merr\u001b[0m\u001b[0;34m)\u001b[0m\u001b[0;34m\u001b[0m\u001b[0;34m\u001b[0m\u001b[0m\n\u001b[1;32m     52\u001b[0m             \u001b[0;32mraise\u001b[0m \u001b[0mLauncherError\u001b[0m\u001b[0;34m(\u001b[0m\u001b[0;34m\"Slurm allocation error\"\u001b[0m\u001b[0;34m)\u001b[0m\u001b[0;34m\u001b[0m\u001b[0;34m\u001b[0m\u001b[0m\n\u001b[0;32m---> 53\u001b[0;31m         \u001b[0;32mraise\u001b[0m \u001b[0mLauncherError\u001b[0m\u001b[0;34m(\u001b[0m\u001b[0merror\u001b[0m\u001b[0;34m)\u001b[0m\u001b[0;34m\u001b[0m\u001b[0;34m\u001b[0m\u001b[0m\n\u001b[0m\u001b[1;32m     54\u001b[0m     \u001b[0;32mreturn\u001b[0m \u001b[0mstr\u001b[0m\u001b[0;34m(\u001b[0m\u001b[0malloc_id\u001b[0m\u001b[0;34m)\u001b[0m\u001b[0;34m\u001b[0m\u001b[0;34m\u001b[0m\u001b[0m\n\u001b[1;32m     55\u001b[0m \u001b[0;34m\u001b[0m\u001b[0m\n",
      "\u001b[0;31mLauncherError\u001b[0m: Job submit/allocate failed: Requested node configuration is not available"
     ]
    }
   ],
   "source": [
    "# ensemble runs\n",
    "# resource allocation settings\n",
    "database_nodes = 16\n",
    "database_alloc_opts = {\n",
    "    \"constraint\": \"P100\",\n",
    "    \"cpus-per-task\": 36,\n",
    "    \"ntasks-per-node\": 1,\n",
    "    \"exclusive\": None,\n",
    "    \"time\": \"10-00:00:00\"\n",
    "}\n",
    "\n",
    "ens_compute_nodes = 300\n",
    "ens_total_tasks = 14400\n",
    "ens_alloc_opts = {\n",
    "    \"constraint\": '\"[SK48,SK56,CL48]\"',\n",
    "    \"ntasks-per-node\": 48,\n",
    "    \"exclusive\": None,\n",
    "    \"time\": \"10-00:00:00\"\n",
    "}\n",
    "\n",
    "# obtain allocations for the model and database through SmartSim\n",
    "ens_alloc = slurm.get_slurm_allocation(nodes=ens_compute_nodes,\n",
    "                                        add_opts=ens_alloc_opts)\n",
    "db_alloc = slurm.get_slurm_allocation(nodes=database_nodes,\n",
    "                                      add_opts=database_alloc_opts)"
   ]
  },
  {
   "cell_type": "markdown",
   "id": "relevant-mineral",
   "metadata": {},
   "source": [
    "## 1.3) Setup MOM6 and Inference Database in SmartSim"
   ]
  },
  {
   "cell_type": "code",
   "execution_count": null,
   "id": "cubic-dimension",
   "metadata": {},
   "outputs": [],
   "source": [
    "# create the database object\n",
    "orc = experiment.create_orchestrator(db_nodes=database_nodes,\n",
    "                                     overwrite=True,\n",
    "                                     alloc=db_alloc)\n",
    "\n",
    "# Create the MOM6 model object\n",
    "mom6_settings = {\n",
    "    \"nodes\": mom6_compute_nodes,\n",
    "    \"ntasks\": mom6_total_tasks,\n",
    "    \"executable\":  \"/lus/cls01029/ashao/dev/MOM6-examples/build/gnu/ice_ocean_SIS2/repro/MOM6\",\n",
    "    \"alloc\": mom6_alloc,\n",
    "    \"exclusive\": None\n",
    "}\n",
    "mom6 = experiment.create_model(\"mom6_model\", run_settings=mom6_settings)\n"
   ]
  },
  {
   "cell_type": "code",
   "execution_count": null,
   "id": "known-cooper",
   "metadata": {},
   "outputs": [],
   "source": [
    "num_ensembles = 6\n",
    "ensemble = experiment.create_ensemble(\"MOM6-ensemble\", run_settings=run_settings)\n",
    "for i in range(num_ensembles):\n",
    "    _model = exp.create_model(f\"MOM6_{str(i)}\", run_settings=run_settings)\n",
    "    _model.register_incoming_connection(_model, \"fortran\")\n",
    "    ensemble.add_model(_model)"
   ]
  },
  {
   "cell_type": "code",
   "execution_count": null,
   "id": "honest-roller",
   "metadata": {},
   "outputs": [],
   "source": [
    "# setup the input/configuration files for the MOM6 simulation\n",
    "mom6.attach_generator_files(\n",
    "    to_copy=[\"/lus/cls01029/spartee/MOM/OM4_025\"],\n",
    "    to_symlink=['/lus/cls01029/ashao/dev/poseidon-smartsim/examples/MOM6/ml_eke/INPUT']\n",
    ")\n",
    "experiment.generate(mom6, orc, overwrite=True)"
   ]
  },
  {
   "cell_type": "code",
   "execution_count": null,
   "id": "mysterious-salem",
   "metadata": {},
   "outputs": [],
   "source": [
    "Affinity/Multi-core options: (when the task/affinity plugin is enabled)\n",
    "  -B, --extra-node-info=S[:C[:T]]           Expands to:\n",
    "      --sockets-per-node=S    number of sockets per node to allocate\n",
    "      --cores-per-socket=C    number of cores per socket to allocate\n",
    "      --threads-per-core=T    number of threads per core to allocate\n",
    "                              each field can be 'min' or wildcard '*'\n",
    "                              total cpus requested = (N x S x C x T)\n",
    "\n",
    "      --ntasks-per-core=n     number of tasks to invoke on each core\n",
    "      --ntasks-per-socket=n   number of tasks to invoke on each socket\n",
    "      --cpu-bind=             Bind tasks to CPUs\n",
    "                              (see \"--cpu-bind=help\" for options)\n",
    "      --hint=                 Bind tasks according to application hints\n",
    "                              (see \"--hint=help\" for options)\n",
    "      --mem-bind=             Bind memory to locality domains (ldom)\n",
    "                              (see \"--mem-bind=help\" for options)\n",
    "\n",
    "Options provided by plugins:\n",
    "      --image=image           shifter image to use\n",
    "      --volume=volume         shifter image bindings\n",
    "\n",
    "GPU scheduling options:\n",
    "      --cpus-per-gpu=n        number of CPUs required per allocated GPU\n",
    "  -G, --gpus=n                count of GPUs required for the job\n",
    "      --gpu-bind=...          task to gpu binding options\n",
    "      --gpu-freq=...          frequency and voltage of GPUs\n",
    "      --gpus-per-node=n       number of GPUs required per allocated node\n",
    "      --gpus-per-socket=n     number of GPUs required per allocated socket\n",
    "      --gpus-per-task=n       number of GPUs required per spawned task\n",
    "      --mem-per-gpu=n         real memory required per allocated GPU\n",
    "\n",
    "        CPU bind options:\n",
    "    --cpu-bind=         Bind tasks to CPUs\n",
    "        q[uiet]         quietly bind before task runs (default)\n",
    "        v[erbose]       verbosely report binding before task runs\n",
    "        no[ne]          don't bind tasks to CPUs (default)\n",
    "        rank            bind by task rank\n",
    "        map_cpu:<list>  specify a CPU ID binding for each task\n",
    "                        where <list> is <cpuid1>,<cpuid2>,...<cpuidN>\n",
    "        mask_cpu:<list> specify a CPU ID binding mask for each task\n",
    "                        where <list> is <mask1>,<mask2>,...<maskN>\n",
    "        rank_ldom       bind task by rank to CPUs in a NUMA locality domain\n",
    "        map_ldom:<list> specify a NUMA locality domain ID for each task\n",
    "                        where <list> is <ldom1>,<ldom2>,...<ldomN>\n",
    "        mask_ldom:<list>specify a NUMA locality domain ID mask for each task\n",
    "                        where <list> is <mask1>,<mask2>,...<maskN>\n",
    "        sockets         auto-generated masks bind to sockets\n",
    "        cores           auto-generated masks bind to cores\n",
    "        threads         auto-generated masks bind to threads\n",
    "        ldoms           auto-generated masks bind to NUMA locality domains\n",
    "        boards          auto-generated masks bind to boards\n",
    "        help            show this help message"
   ]
  },
  {
   "cell_type": "markdown",
   "id": "graphic-translation",
   "metadata": {},
   "source": [
    "## 1.4) Start the Experiment\n",
    "  - To start the SmartSim experiment, we simply provide our MOM6 model and orchestrator objects to the start function.\n",
    "  - If Block is set to true, the start method is blocking and further code will not be executed.\n",
    "  - If Block is false, users will be able to interact with their models in real time."
   ]
  },
  {
   "cell_type": "code",
   "execution_count": null,
   "id": "southwest-repeat",
   "metadata": {},
   "outputs": [],
   "source": [
    "# Start the model and orchestrator\n",
    "experiment.start(mom6, block=False, summary=True)"
   ]
  },
  {
   "cell_type": "code",
   "execution_count": null,
   "id": "adolescent-shopper",
   "metadata": {},
   "outputs": [],
   "source": [
    "print(f\"MOM6 Status: {experiment.get_status(mom6)[0]}\")"
   ]
  },
  {
   "cell_type": "code",
   "execution_count": null,
   "id": "linear-abuse",
   "metadata": {},
   "outputs": [],
   "source": [
    "experiment.stop(mom6)"
   ]
  },
  {
   "cell_type": "markdown",
   "id": "desperate-complex",
   "metadata": {},
   "source": [
    "# 2.0) Interactive, Online Analysis of MOM6 with SmartSim/SILC\n",
    "  - SmartSim allows simulation users to interact with and view their data being produced in real-time using SILC.\n",
    "  - Fortran, C, and C++ arrays are converted directly into Python NumPy arrays. \n",
    "  - SILC handles all array trasformations, memory management, and row/column major transformations between langauges."
   ]
  },
  {
   "cell_type": "code",
   "execution_count": null,
   "id": "separate-worry",
   "metadata": {},
   "outputs": [],
   "source": [
    "!salloc --help | grep per-task"
   ]
  },
  {
   "cell_type": "code",
   "execution_count": null,
   "id": "differential-tradition",
   "metadata": {},
   "outputs": [],
   "source": [
    "# import SILC python client to retrieve FORTRAN data.\n",
    "from silc import Client\n",
    "import reconstruct"
   ]
  },
  {
   "cell_type": "markdown",
   "id": "moderate-penny",
   "metadata": {},
   "source": [
    "## 2.1) Initialize the SILC Python Client"
   ]
  },
  {
   "cell_type": "code",
   "execution_count": null,
   "id": "abstract-hazard",
   "metadata": {},
   "outputs": [],
   "source": [
    "client = Client(\"nid00196:6379\", True, True)"
   ]
  },
  {
   "cell_type": "code",
   "execution_count": null,
   "id": "focused-governor",
   "metadata": {},
   "outputs": [],
   "source": [
    "script = client.get_script(\"preeke\")"
   ]
  },
  {
   "cell_type": "code",
   "execution_count": null,
   "id": "living-assembly",
   "metadata": {},
   "outputs": [],
   "source": [
    "script"
   ]
  },
  {
   "cell_type": "markdown",
   "id": "joint-edgar",
   "metadata": {},
   "source": [
    "## 2.2) Retrieve and Visualize MKE and EKE during the Simulation\n",
    "   - Here we **show the plots of MKE and EKE while MOM6 is running**\n",
    "   - The data is sent from MOM6, stored in memory, and retrieved by the SILC Python client. \n",
    "   - We use a simple Python script to reconstruct the domain (reconstruct.py)\n",
    "   - This approach **completely bypasses the file-system** except for the ocean grid which doesn't change."
   ]
  },
  {
   "cell_type": "code",
   "execution_count": null,
   "id": "forced-garlic",
   "metadata": {},
   "outputs": [],
   "source": [
    "grid = xr.open_dataset('/home/users/ashao/lustre/dev/poseidon-smartsim/examples/MOM6/ml_eke/year1/mom6_model/sea_ice_geometry.nc')\n",
    "\n",
    "plt.figure(figsize=(20, 8))\n",
    "plt.subplot(1,2,1)\n",
    "mke = reconstruct.reconstruct_domain(client, \"MKE_59918400900.\",3551).transpose()\n",
    "mke[grid.wet==0] = np.nan\n",
    "plt.pcolormesh(mke,vmin=0,vmax=.2)\n",
    "plt.colorbar(label='Mean Kinetic Energy (m$^2$s$^{-2}$)')\n",
    "plt.title(\"Mean Kinetic Energy streamed out of MOM6\")\n",
    "\n",
    "plt.subplot(1,2,2)\n",
    "mke = reconstruct.reconstruct_domain(client,\"EKE_59918400900.\",3551).transpose()\n",
    "mke[grid.wet==0] = np.nan\n",
    "plt.pcolormesh(mke,vmin=0,vmax=.1)\n",
    "plt.colorbar(label='Eddy Kinetic Energy (m$^2$s$^{-2}$)')\n",
    "plt.title(\"Eddy Kinetic Energy streamed out of MOM6\")"
   ]
  },
  {
   "cell_type": "code",
   "execution_count": null,
   "id": "south-bottle",
   "metadata": {},
   "outputs": [],
   "source": [
    "plt.figure(figsize=(20, 8))\n",
    "plt.subplot(1,2,1)\n",
    "mke = reconstruct.reconstruct_domain(client,\"MKE_59918479200.\",3551).transpose()\n",
    "mke[grid.wet==0] = np.nan\n",
    "plt.pcolormesh(mke,vmin=0,vmax=.2)\n",
    "plt.colorbar(label='Mean Kinetic Energy (m$^2$s$^{-2}$)')\n",
    "plt.title(\"Mean Kinetic Energy streamed out of MOM6\")\n",
    "\n",
    "plt.subplot(1,2,2)\n",
    "mke = reconstruct.reconstruct_domain(client,\"EKE_59918479200.\",3551).transpose()\n",
    "mke[grid.wet==0] = np.nan\n",
    "plt.pcolormesh(mke,vmin=0,vmax=.1)\n",
    "plt.colorbar(label='Eddy Kinetic Energy (m$^2$s$^{-2}$)')\n",
    "plt.title(\"Eddy Kinetic Energy streamed out of MOM6\")"
   ]
  },
  {
   "cell_type": "code",
   "execution_count": null,
   "id": "electric-phone",
   "metadata": {},
   "outputs": [],
   "source": [
    "plt.figure(figsize=(20, 8))\n",
    "plt.subplot(1,2,1)\n",
    "mke = reconstruct.reconstruct_domain(client,\"MKE_59918408100.\",3551).transpose()\n",
    "mke[grid.wet==0] = np.nan\n",
    "plt.pcolormesh(mke,vmin=0,vmax=.2)\n",
    "plt.colorbar(label='Mean Kinetic Energy (m$^2$s$^{-2}$)')\n",
    "plt.title(\"Mean Kinetic Energy streamed out of MOM6\")\n",
    "\n",
    "plt.subplot(1,2,2)\n",
    "mke = reconstruct.reconstruct_domain(client,\"EKE_59918408100.\",3551).transpose()\n",
    "mke[grid.wet==0] = np.nan\n",
    "plt.pcolormesh(mke,vmin=0,vmax=.1)\n",
    "plt.colorbar(label='Eddy Kinetic Energy (m$^2$s$^{-2}$)')\n",
    "plt.title(\"Eddy Kinetic Energy streamed out of MOM6\")"
   ]
  },
  {
   "cell_type": "markdown",
   "id": "inner-rubber",
   "metadata": {},
   "source": [
    "## 2.3) Release Computational Resources for the SmartSim Experiment"
   ]
  },
  {
   "cell_type": "code",
   "execution_count": null,
   "id": "tribal-dividend",
   "metadata": {},
   "outputs": [],
   "source": [
    "# stop the database\n",
    "#experiment.stop(orc)\n",
    "\n",
    "# Release our system compute allocation for MOM6 and the database\n",
    "slurm.release_slurm_allocation(db_alloc)\n",
    "slurm.release_slurm_allocation(mom6_alloc)"
   ]
  },
  {
   "cell_type": "code",
   "execution_count": null,
   "id": "generic-productivity",
   "metadata": {},
   "outputs": [],
   "source": [
    "experiment.summary()"
   ]
  },
  {
   "cell_type": "code",
   "execution_count": null,
   "id": "great-principal",
   "metadata": {},
   "outputs": [],
   "source": [
    "experiment.stop(orc)"
   ]
  },
  {
   "cell_type": "code",
   "execution_count": null,
   "id": "distant-beach",
   "metadata": {},
   "outputs": [],
   "source": [
    "!squeue"
   ]
  },
  {
   "cell_type": "code",
   "execution_count": null,
   "id": "loving-progressive",
   "metadata": {},
   "outputs": [],
   "source": [
    "!sinfo"
   ]
  },
  {
   "cell_type": "code",
   "execution_count": null,
   "id": "featured-commander",
   "metadata": {},
   "outputs": [],
   "source": [
    "!sacct -u spartee"
   ]
  },
  {
   "cell_type": "code",
   "execution_count": null,
   "id": "horizontal-friend",
   "metadata": {},
   "outputs": [],
   "source": []
  }
 ],
 "metadata": {
  "kernelspec": {
   "display_name": "Python 3",
   "language": "python",
   "name": "python3"
  },
  "language_info": {
   "codemirror_mode": {
    "name": "ipython",
    "version": 3
   },
   "file_extension": ".py",
   "mimetype": "text/x-python",
   "name": "python",
   "nbconvert_exporter": "python",
   "pygments_lexer": "ipython3",
   "version": "3.7.7"
  }
 },
 "nbformat": 4,
 "nbformat_minor": 5
}
