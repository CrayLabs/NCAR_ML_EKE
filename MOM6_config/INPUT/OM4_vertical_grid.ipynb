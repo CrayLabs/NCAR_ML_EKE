{
 "cells": [
  {
   "cell_type": "code",
   "execution_count": null,
   "metadata": {
    "collapsed": false
   },
   "outputs": [],
   "source": [
    "import math\n",
    "import numpy\n",
    "import matplotlib.pyplot as plt\n",
    "import scipy.io\n",
    "%matplotlib inline"
   ]
  },
  {
   "cell_type": "code",
   "execution_count": null,
   "metadata": {
    "collapsed": false
   },
   "outputs": [],
   "source": [
    "zNODC = numpy.concatenate((numpy.arange(0,100,5),numpy.arange(100,500,25),numpy.arange(500,2000,50),numpy.arange(2000,6600,100)))\n",
    "dzNODC = zNODC[1:] - zNODC[:-1]\n",
    "zCM21 = numpy.array([0, 10.1, 20.2, 30.3, 40.5, 50.7, 61, 71.5, 82.2, 93.1, 104.4, 116.1, \n",
    "    128.5, 141.8, 156.4, 172.7, 191.3, 213, 238.9, 270.3, 308.8, 356.2, \n",
    "    414.6, 485.9, 571.9, 673.8, 791.9, 925.9, 1074.6, 1236.2, 1408.8, 1590.3, \n",
    "    1778.9, 1973, 2171.3, 2372.7, 2576.4, 2781.8, 2988.5, 3196.1, 3404.4, \n",
    "    3613.1, 3822.2, 4031.5, 4241, 4450.7, 4660.5, 4870.3, 5080.2, 5290.1, \n",
    "    5499.1])\n",
    "dzCM21 = zCM21[1:] - zCM21[:-1]\n",
    "dzOM4 = numpy.array([2, 2, 2, 2, 2.01, 2.01, 2.02, 2.03, 2.05, 2.08, 2.11, 2.15, 2.2, 2.27, \n",
    "    2.34, 2.44, 2.55, 2.69, 2.85, 3.04, 3.27, 3.54, 3.85, 4.22, 4.66, 5.18, \n",
    "    5.79, 6.52, 7.37, 8.37, 9.55, 10.94, 12.57, 14.48, 16.72, 19.33, 22.36, \n",
    "    25.87, 29.91, 34.53, 39.79, 45.72, 52.37, 59.76, 67.89, 76.74, 86.29, \n",
    "    96.47, 107.2, 118.35, 129.81, 141.42, 153.01, 164.41, 175.47, 186.01, \n",
    "    195.9, 205.01, 213.27, 220.6, 226.99, 232.43, 236.96, 240.63, 243.52, \n",
    "    245.72, 247.33, 248.45, 249.18, 249.62, 249.86, 249.96, 249.99, 250, 250])\n",
    "dzDunne = numpy.array([2, 2, 2, 2, 2, 2, 2, 2, 2, 2, 2, 2, 2, 2, 2, 2, 2, 2, 2, 2, 2, 2, 2, 2, \n",
    "    2, 2.1, 2.23, 2.4, 2.61, 2.85, 3.13, 3.46, 3.84, 4.28, 4.8, 5.39, 6.07, \n",
    "    6.86, 7.77, 8.83, 10.04, 11.44, 13.06, 14.92, 17.06, 19.53, 22.37, 25.62, \n",
    "    29.36, 33.64, 38.52, 44.09, 50.43, 57.62, 65.76, 74.93, 85.24, 96.78, \n",
    "    109.64, 123.9, 139.62, 156.85, 175.59, 195.82, 217.45, 240.32, 264.18, \n",
    "    288.63, 313.13, 336.87, 358.61, 376.17, 376.17, 1000, 1000])\n",
    "def dz2(N,Htotal,Hmin,p,f2=0.,prec=0.01):\n",
    "    dz = Hmin * numpy.ones( N )\n",
    "    k = numpy.linspace(0, N, N).astype(numpy.float64)/N\n",
    "    dzp = k**p * ( 1 - f2*k )\n",
    "    dzp = (Htotal - dz.sum()) * ( dzp / dzp.sum() )\n",
    "    dzp = prec * numpy.round( dzp / prec)\n",
    "    dzp = (Htotal - dz.sum()) * ( dzp / dzp.sum() )\n",
    "    dzp = prec * numpy.round( dzp / prec)\n",
    "    dzp[-1] += Htotal - (dz+dzp).sum()\n",
    "    dzp = prec * numpy.round( dzp / prec)\n",
    "    return dz + dzp\n",
    "dzOM4new=dz2(75,6500,2,6)\n",
    "print(dzOM4new)\n",
    "print(dzOM4new.sum())"
   ]
  },
  {
   "cell_type": "code",
   "execution_count": null,
   "metadata": {
    "collapsed": false
   },
   "outputs": [],
   "source": [
    "def zFromDz(dz):\n",
    "    \"\"\"\n",
    "    Sums dz to return zInterface and zCenter.\n",
    "    \"\"\"\n",
    "    zInt = numpy.zeros(dz.shape[0]+1)\n",
    "    zInt[1:] = -numpy.cumsum(dz)\n",
    "    zCenter = 0.5*( zInt[:-1] + zInt[1:] )\n",
    "    return zInt, zCenter\n",
    "def plot1Dz(dz, scale=1, fmt='.', hold=True, label=None):\n",
    "    \"\"\"Plots dz as bars in z-space\"\"\"\n",
    "    zI, zC = zFromDz(dz)\n",
    "    plt.errorbar(dz/scale,zC,yerr=dz/2,fmt=fmt,hold=hold,label=label)\n",
    "    plt.gca().invert_yaxis()\n",
    "def plotRatio(dz, scale=1, fmt='.', hold=True, label=None):\n",
    "    \"\"\"Plots dz as bars in z-space\"\"\"\n",
    "    zI, zC = zFromDz(dz)\n",
    "    plt.plot(dz[1:]/dz[:-1],zI[1:-1],hold=hold,label=label)\n",
    "    plt.gca().invert_yaxis()\n",
    "def plotDzs():\n",
    "    plot1Dz(dzCM21, label='CM2.1', hold=False)\n",
    "    #plot1Dz(dzNODC, label='NODC')\n",
    "    plot1Dz(dzOM4, label='OM4')\n",
    "    plot1Dz(dzDunne, label='OM4 JPD')\n",
    "    plot1Dz(dzOM4new, label='OM4 new')\n",
    "    plt.xlabel('$\\Delta$z [m]'); plt.ylabel('z [m]')\n",
    "    plt.legend(loc='upper right')\n",
    "def plotRatios():\n",
    "    plotRatio(dzCM21, label='CM2.1', hold=False)\n",
    "    #plotRatio(dzNODC, label='NODC')\n",
    "    plotRatio(dzOM4, label='OM4')\n",
    "    plotRatio(dzDunne, label='OM4 JPD')\n",
    "    plotRatio(dzOM4new, label='OM4 new')\n",
    "    plt.xlabel('Ratio $\\Delta$z$_{k+1}$/$\\Delta$z$_k$'); plt.ylabel('z [m]')\n",
    "    plt.legend(loc='upper right')\n",
    "\n",
    "plt.figure(figsize=(16,7))\n",
    "plt.subplot(133);plotDzs();plt.ylim(-6500,0); plt.xlim(0,1010);\n",
    "plt.subplot(132);plotDzs();plt.ylim(-1000,0); plt.xlim(0,150);\n",
    "plt.subplot(131);plotDzs();plt.ylim(-300,0); plt.xlim(0,40);\n",
    "\n",
    "plt.figure(figsize=(16,7))\n",
    "plt.subplot(133);plotRatios();plt.ylim(-6500,0); plt.xlim(.97,1.4);\n",
    "plt.subplot(132);plotRatios();plt.ylim(-1000,0); plt.xlim(.97,1.4);\n",
    "plt.subplot(131);plotRatios();plt.ylim(-300,0); plt.xlim(.97,1.4);"
   ]
  },
  {
   "cell_type": "code",
   "execution_count": null,
   "metadata": {
    "collapsed": false
   },
   "outputs": [],
   "source": [
    "fname = 'vgrid_75_2m_575m.nc'\n",
    "nc = scipy.io.netcdf_file(fname,'w')\n",
    "nc.createDimension('nz',dzOM4new.shape[0])\n",
    "nc.filename = fname\n",
    "v = nc.createVariable('dz','double',('nz',))\n",
    "v.units = 'm'\n",
    "v.long_name = 'z* coordinate level thickness'\n",
    "v[:] = dzOM4new[:]\n",
    "nc.close()"
   ]
  },
  {
   "cell_type": "code",
   "execution_count": null,
   "metadata": {
    "collapsed": false
   },
   "outputs": [],
   "source": [
    "zt = numpy.array([2.5, 10, 20, 30, 50, 75, 100, 125, 150, 200, 250, 300, 400, 500, 600, \n",
    "    700, 800, 900, 1000, 1100, 1200, 1300, 1400, 1500, 1750, 2000, 2500, \n",
    "    3000, 3500, 4000, 4500, 5000, 5500, 6000, 6500 ])\n",
    "zw = numpy.array([0, 5, 15, 25, 40, 62.5, 87.5, 112.5, 137.5, 175, 225, 275, 350, 450, \n",
    "    550, 650, 750, 850, 950, 1050, 1150, 1250, 1350, 1450, 1625, 1875, 2250, \n",
    "    2750, 3250, 3750, 4250, 4750, 5250, 5750, 6250, 6750 ])"
   ]
  },
  {
   "cell_type": "code",
   "execution_count": null,
   "metadata": {
    "collapsed": false
   },
   "outputs": [],
   "source": [
    "plt.figure(); plt.errorbar(zw[1:]-zw[:-1],-zt,yerr=0.5*(zw[1:]-zw[:-1]),fmt='.')\n",
    "plt.figure(); plt.plot( 0.5*(zw[1:]+zw[:-1]) - zt, -zt); plt.ylim(-3000,0)"
   ]
  },
  {
   "cell_type": "code",
   "execution_count": null,
   "metadata": {
    "collapsed": false
   },
   "outputs": [],
   "source": [
    "fname = 'analysis_vgrid_lev35.v1.nc'\n",
    "nc = scipy.io.netcdf_file(fname,'w')\n",
    "nc.createDimension('zt',zt.shape[0])\n",
    "nc.createDimension('zw',zw.shape[0])\n",
    "nc.filename = fname\n",
    "v1 = nc.createVariable('zt','double',('zt',))\n",
    "v2 = nc.createVariable('zw','double',('zw',))\n",
    "v1.units = 'm'\n",
    "v2.units = 'm'\n",
    "v1.long_name = 'Diagnostic depth coordinate level position'\n",
    "v1.comment = 'Used for diagnostics only, based on WOA09 standard levels'\n",
    "v2.long_name = 'Diagnostic depth coordinate interface position'\n",
    "v2.comment = 'Used for diagnostics only, based on WOA09 standard levels'\n",
    "v1[:] = zt[:]\n",
    "v2[:] = zw[:]\n",
    "nc.close()"
   ]
  }
 ],
 "metadata": {
  "kernelspec": {
   "display_name": "Python 3",
   "language": "python",
   "name": "python3"
  },
  "language_info": {
   "codemirror_mode": {
    "name": "ipython",
    "version": 3
   },
   "file_extension": ".py",
   "mimetype": "text/x-python",
   "name": "python",
   "nbconvert_exporter": "python",
   "pygments_lexer": "ipython3",
   "version": "3.4.3"
  }
 },
 "nbformat": 4,
 "nbformat_minor": 0
}
