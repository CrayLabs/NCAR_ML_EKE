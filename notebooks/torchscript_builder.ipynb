{
 "cells": [
  {
   "cell_type": "code",
   "execution_count": 1,
   "id": "premium-briefs",
   "metadata": {},
   "outputs": [],
   "source": [
    "import numpy as np # linear algebra\n",
    "import pandas as pd\n",
    "import torch\n",
    "import os\n",
    "import ml_eke\n",
    "from tqdm import tqdm\n",
    "import matplotlib.pyplot as plt\n"
   ]
  },
  {
   "cell_type": "code",
   "execution_count": 2,
   "id": "verified-intake",
   "metadata": {},
   "outputs": [],
   "source": [
    "def get_samples(start, end, columns, model_data, predictands=['EKE_sfc']):\n",
    "\n",
    "    samples = []\n",
    "    targets = []\n",
    "    for sample in tqdm(range(start, end), desc=\"Extracting samples\"):\n",
    "        X, Y, mask = model_data.extract_sample_from_time(predictors=columns, predictands=predictands, sample_idx=sample)\n",
    "        samples.append(pd.DataFrame(X.data, columns=columns))\n",
    "        targets.append(pd.DataFrame(Y.data, columns=[\"EKE\"]))\n",
    "\n",
    "    data = pd.concat(samples).reset_index()\n",
    "    data.drop(\"index\", inplace=True, axis=1)\n",
    "    targets = pd.concat(targets).reset_index()\n",
    "    targets.drop(\"index\", inplace=True, axis=1)\n",
    "    data[\"EKE\"] = targets[\"EKE\"]\n",
    "    \n",
    "    return data\n",
    "\n",
    "\n",
    "def get_samples_2D(start, end, columns, model_data, predictands=['EKE_sfc'], skip_preprocess_var=[]):\n",
    "    \n",
    "    # get first sample and infer size\n",
    "    samples, targets, masks = model_data.extract_sample_from_time_2D(predictors=columns,predictands = predictands, sample_idx = start)\n",
    "    skip_col = [columns[i] in skip_preprocess_var for i in range(len(columns))]\n",
    "    \n",
    "    samples = np.expand_dims(samples, axis=0)\n",
    "    targets = np.expand_dims(targets, axis=0)\n",
    "    masks   = np.expand_dims(masks, axis=0)\n",
    "    \n",
    "    \n",
    "    for sample in tqdm(range(start+1, end), desc=\"Extracting 2D samples\"):\n",
    "        X, Y, mask = model_data.extract_sample_from_time_2D(predictors=columns,predictands = predictands, sample_idx = sample)\n",
    "        if preprocess:\n",
    "            samples = np.append(samples, [regularize_2D(X, skip_col)], axis=0)\n",
    "        else:\n",
    "            samples = np.append(samples, [X], axis=0)\n",
    "        targets = np.append(targets, [Y], axis=0)\n",
    "        masks   = np.append(masks,   [mask], axis=0)\n",
    "        \n",
    "    return samples, targets, masks\n"
   ]
  },
  {
   "cell_type": "code",
   "execution_count": 24,
   "id": "third-formula",
   "metadata": {},
   "outputs": [
    {
     "name": "stderr",
     "output_type": "stream",
     "text": [
      "Extracting samples: 100%|██████████| 1/1 [00:00<00:00, 60.39it/s]\n",
      "Extracting 2D samples: 0it [00:00, ?it/s]"
     ]
    },
    {
     "name": "stdout",
     "output_type": "stream",
     "text": [
      "range(0, 141661)\n"
     ]
    },
    {
     "name": "stderr",
     "output_type": "stream",
     "text": [
      "\n"
     ]
    }
   ],
   "source": [
    "columns_6_features = ['MKE_sfc',\n",
    "                      'slope_z',\n",
    "                      'Rd_dx_z',\n",
    "                      'relative_vorticity_sfc',\n",
    "                      'divergence_sfc',\n",
    "                      'deformation_sfc'\n",
    "                      ]\n",
    "\n",
    "columns_4_features = columns_6_features[0:4]\n",
    "\n",
    "columns_5_features = columns_4_features + ['grad_SSH_sfc']\n",
    "\n",
    "columns = columns_4_features\n",
    "\n",
    "model_path = './ml_eke/nn/pytorch/trained_models/ResNetSmall_4_custom.pkl'\n",
    "model_name = os.path.basename(model_path).split('.')[0]\n",
    "\n",
    "model_mse = torch.load(model_path, map_location=torch.device('cuda'))\n",
    "\n",
    "datapaths_2_3 = ('/lus/scratch/arigazzi/ncar/data/2_3/', '/lus/scratch/ashao/data/2_3_SSH/')\n",
    "first_suffixes_2_3 = ('_01_001.nc', '_16_001.nc')\n",
    "datapaths_1_4 = ('/lus/scratch/arigazzi/ncar/data/1_4/', '/lus/scratch/ashao/data/1_4_SSH/')\n",
    "first_suffixes_1_4 = ('_1915_001.nc', '_18_001.nc')\n",
    "\n",
    "datapaths = datapaths_2_3\n",
    "first_suffixes = first_suffixes_2_3\n",
    "\n",
    "last_dir = os.path.normpath(datapaths[0]).split(os.sep)[-1]\n",
    "\n",
    "model_data = ml_eke.pop_data(datapaths[0], datapaths[0], skip_vars = ['x','y','depth','depth_stdev'], extra_pref=None, first_suffix=first_suffixes[0])\n",
    "#model_data.extend_inventory(datapaths[1],first_suffix=first_suffixes[1])\n",
    "\n",
    "scaler =  np.load('ml_eke/nn/data/scaler_cf_all_4_feat.npy')\n",
    "\n",
    "X_train = np.load('./ml_eke/nn/data/X_train_cf_all_4_feat.npy')\n",
    "y_train = np.load('./ml_eke/nn/data/y_train_cf_all_4_feat.npy')\n",
    "\n",
    "num_samples = 1 # one year should be enough.\n",
    "dataset = get_samples(0, num_samples, columns, model_data, predictands=['MEKE_z'])\n",
    "samples, targets, masks = get_samples_2D(0, num_samples, columns, model_data, predictands=['MEKE_z'])\n",
    "\n",
    "# 10M points are enough for statistics.\n",
    "#ids = np.random.choice(dataset.values.shape[0], size=10**7, replace=False);\n",
    "\n",
    "ids = range(len(dataset))\n",
    "print(ids)"
   ]
  },
  {
   "cell_type": "code",
   "execution_count": 25,
   "id": "southwest-chester",
   "metadata": {},
   "outputs": [
    {
     "name": "stdout",
     "output_type": "stream",
     "text": [
      "[-5.986453   -5.069865    0.78925097 -0.32779396]\n",
      "[ 1.886578   1.7263529  1.2010906 21.83674  ]\n"
     ]
    }
   ],
   "source": [
    "feat_avg = scaler[0,:]\n",
    "feat_sd = scaler[1,:]\n",
    "\n",
    "print(feat_avg)\n",
    "print(feat_sd)"
   ]
  },
  {
   "cell_type": "code",
   "execution_count": 26,
   "id": "finite-lemon",
   "metadata": {},
   "outputs": [],
   "source": [
    "feats = dataset.values.copy()[ids, 0:len(columns)]\n",
    "\n",
    "feats[:,[3]] = np.log(np.abs(feats[:,[3]]))*np.sign(feats[:,[3]])+36.0*np.sign(feats[:,[3]])\n",
    "feats[:,[0,1]] = np.log(feats[:,[0,1]])\n",
    "\n",
    "# feat_avg = np.mean(feats, axis=0, dtype=np.float64)\n",
    "# feat_sd  = np.std(feats, axis=0, dtype=np.float64)\n",
    "\n",
    "feats = (feats-feat_avg)/feat_sd"
   ]
  },
  {
   "cell_type": "code",
   "execution_count": 27,
   "id": "rapid-therapy",
   "metadata": {},
   "outputs": [
    {
     "name": "stderr",
     "output_type": "stream",
     "text": [
      "100%|██████████| 14/14 [00:00<00:00, 78.82it/s]\n"
     ]
    }
   ],
   "source": [
    "chunk_size = 10000\n",
    "preds = np.zeros((feats.shape[0],1))\n",
    "\n",
    "for chunk in tqdm(range(feats.shape[0]//chunk_size)):\n",
    "    loc_feats = torch.tensor(feats[chunk*chunk_size:(chunk+1)*chunk_size,:], dtype=torch.float32).cuda()\n",
    "    preds[chunk*chunk_size:(chunk+1)*chunk_size] = model_mse(loc_feats).cpu().detach().numpy()\n",
    "    \n",
    "if feats.shape[0]%chunk_size != 0:\n",
    "    chunk = feats.shape[0]//chunk_size\n",
    "    loc_feats = torch.tensor(feats[chunk*chunk_size:,:], dtype=torch.float32).cuda()\n",
    "    preds[chunk*chunk_size:] = model_mse(loc_feats).cpu().detach().numpy()\n",
    "    "
   ]
  },
  {
   "cell_type": "code",
   "execution_count": 28,
   "id": "seasonal-postage",
   "metadata": {},
   "outputs": [
    {
     "name": "stdout",
     "output_type": "stream",
     "text": [
      "0\n"
     ]
    }
   ],
   "source": [
    "print(np.sum(preds==0.0))\n",
    "pred_avg = np.mean(preds, dtype=np.float64)\n",
    "pred_sd  = np.std(preds, dtype=np.float64)\n"
   ]
  },
  {
   "cell_type": "code",
   "execution_count": 29,
   "id": "bridal-glasgow",
   "metadata": {},
   "outputs": [
    {
     "name": "stdout",
     "output_type": "stream",
     "text": [
      "return:  [[-3.8768106]\n",
      " [-4.528722 ]\n",
      " [-4.4923825]\n",
      " [-4.406956 ]\n",
      " [-4.428576 ]\n",
      " [-4.3422413]\n",
      " [-4.5023155]\n",
      " [-4.453001 ]\n",
      " [-4.4672465]\n",
      " [-4.5613723]]\n"
     ]
    }
   ],
   "source": [
    "# torchscript\n",
    "model_mse.eval()\n",
    "\n",
    "class InferenceCell(torch.nn.Module):\n",
    "    \n",
    "    def __init__(self):\n",
    "        super(InferenceCell, self).__init__()\n",
    "        self.model = model_mse\n",
    "\n",
    "        self.feat_avg = torch.tensor(feat_avg, dtype=torch.float32).cuda()\n",
    "        self.feat_sd = torch.tensor(feat_sd, dtype=torch.float32).cuda()\n",
    "        \n",
    "    def forward(self, x):\n",
    "        x[:,[3]] = torch.log(torch.abs(x[:,[3]]))*torch.sign(x[:,[3]])+36.0*torch.sign(x[:,[3]])\n",
    "        x[:,[0,1]] = torch.log(x[:,[0,1]])\n",
    "        x = (x - self.feat_avg) / self.feat_sd\n",
    "        x = self.model(x)\n",
    "\n",
    "        return x\n",
    "\n",
    "inference_cell = InferenceCell()\n",
    "x = torch.tensor(dataset.values.copy()[0:10,0:len(columns)]).cuda()\n",
    "#print(f'{x} out')\n",
    "traced_cell = torch.jit.trace(inference_cell, (x))\n",
    "#print(traced_cell.code)\n",
    "x = torch.tensor(dataset.values.copy()[0:10,0:len(columns)]).cuda()\n",
    "#print(f'{x} out')\n",
    "print(\"return: \", traced_cell(x).cpu().detach().numpy())\n"
   ]
  },
  {
   "cell_type": "code",
   "execution_count": 31,
   "id": "brazilian-heading",
   "metadata": {},
   "outputs": [
    {
     "name": "stdout",
     "output_type": "stream",
     "text": [
      "[[-3.93255901]\n",
      " [-4.41034222]\n",
      " [-4.44963217]\n",
      " [-4.43790531]\n",
      " [-4.4358964 ]\n",
      " [-4.37646818]\n",
      " [-4.48078442]\n",
      " [-4.42410374]\n",
      " [-4.13580704]\n",
      " [-4.23903704]]\n",
      "[[-3.8768106]\n",
      " [-4.528722 ]\n",
      " [-4.4923825]\n",
      " [-4.406956 ]\n",
      " [-4.428576 ]\n",
      " [-4.3422413]\n",
      " [-4.5023155]\n",
      " [-4.453001 ]\n",
      " [-4.4672465]\n",
      " [-4.5613723]]\n"
     ]
    }
   ],
   "source": [
    "print(preds[0:10])\n",
    "print(model_mse(torch.tensor(feats[:10, :4], dtype=torch.float32).cuda()).cpu().detach().numpy())"
   ]
  },
  {
   "cell_type": "code",
   "execution_count": 16,
   "id": "taken-coaching",
   "metadata": {},
   "outputs": [],
   "source": [
    "save = True\n",
    "load = False\n",
    "\n",
    "torchscript_name = f'./ml_eke/nn/pytorch/trained_models/{model_name}.gpu.pt'\n",
    "\n",
    "last_dir = os.path.normpath(datapaths[0]).split(os.sep)[-1]\n",
    "if save:\n",
    "    traced_cell.save(torchscript_name)\n",
    "    \n",
    "if load:\n",
    "    traced_cell = torch.jit.load(f'./ml_eke/nn/pytorch/trained_models/{model_name}.gpu.pt')\n",
    "    \n"
   ]
  },
  {
   "cell_type": "code",
   "execution_count": 18,
   "id": "extensive-combat",
   "metadata": {},
   "outputs": [
    {
     "name": "stdout",
     "output_type": "stream",
     "text": [
      "Elapsed time per sample 0.0331807786687042 microseconds\n"
     ]
    }
   ],
   "source": [
    "from time import time\n",
    "\n",
    "\n",
    "XX = torch.tensor(dataset.values.copy()[ids,0:4]).cuda()\n",
    "\n",
    "t1 = time()\n",
    "y = traced_cell(XX)\n",
    "t2 = time()\n",
    "\n",
    "y = y.detach().cpu().numpy()\n",
    "print(f'Elapsed time per sample {(t2-t1)/len(ids)/1e-6} microseconds')\n"
   ]
  },
  {
   "cell_type": "code",
   "execution_count": 19,
   "id": "psychological-editor",
   "metadata": {},
   "outputs": [
    {
     "data": {
      "image/png": "[encoded data removed]",
      "text/plain": [
       "<Figure size 1152x1152 with 1 Axes>"
      ]
     },
     "metadata": {
      "needs_background": "light"
     },
     "output_type": "display_data"
    }
   ],
   "source": [
    "plt.figure(figsize=(16,16))\n",
    "plt.hist(y, bins=100, density=True, alpha=0.2, color='red')\n",
    "plt.hist(y_train, bins=100, density=True, alpha=0.2, color='green')\n",
    "plt.hist(preds, bins=1000, density=True, alpha=0.2, color='blue')\n",
    "plt.draw()"
   ]
  },
  {
   "cell_type": "code",
   "execution_count": 148,
   "id": "sunrise-polymer",
   "metadata": {},
   "outputs": [
    {
     "name": "stdout",
     "output_type": "stream",
     "text": [
      "-5.2009554 -5.17934491016621\n",
      "0.988121 0.9947459262875877\n"
     ]
    }
   ],
   "source": [
    "print(np.mean(y), np.mean(y_train, dtype=np.float64))\n",
    "print(np.std (y), np.std (y_train, dtype=np.float64))"
   ]
  },
  {
   "cell_type": "code",
   "execution_count": 59,
   "id": "antique-coral",
   "metadata": {},
   "outputs": [
    {
     "data": {
      "image/png": "[encoded data removed]",
      "text/plain": [
       "<Figure size 1152x1152 with 4 Axes>"
      ]
     },
     "metadata": {
      "needs_background": "light"
     },
     "output_type": "display_data"
    }
   ],
   "source": [
    "plt.figure(figsize=(16,16))\n",
    "\n",
    "\n",
    "for i in range(feats.shape[1]):\n",
    "    plt.subplot(feats.shape[1], 1, i+1)\n",
    "    plt.hist(feats[:,i], bins=1000, alpha=0.5, density=True)\n",
    "    plt.hist(X_train[:,i], bins=1000, alpha=0.5, density=True)\n",
    "    \n",
    "plt.draw()"
   ]
  },
  {
   "cell_type": "code",
   "execution_count": 23,
   "id": "married-there",
   "metadata": {},
   "outputs": [
    {
     "ename": "RuntimeError",
     "evalue": "The following operation failed in the TorchScript interpreter.\nTraceback of TorchScript (most recent call last):\n/lus/scratch/arigazzi/anaconda3/envs/ncar/lib/python3.6/site-packages/torch/nn/functional.py(2058): batch_norm\n/lus/scratch/arigazzi/anaconda3/envs/ncar/lib/python3.6/site-packages/torch/nn/modules/batchnorm.py(136): forward\n/lus/scratch/arigazzi/anaconda3/envs/ncar/lib/python3.6/site-packages/torch/nn/modules/module.py(709): _slow_forward\n/lus/scratch/arigazzi/anaconda3/envs/ncar/lib/python3.6/site-packages/torch/nn/modules/module.py(725): _call_impl\n/lus/scratch/arigazzi/anaconda3/envs/ncar/lib/python3.6/site-packages/torch/nn/modules/container.py(117): forward\n/lus/scratch/arigazzi/anaconda3/envs/ncar/lib/python3.6/site-packages/torch/nn/modules/module.py(709): _slow_forward\n/lus/scratch/arigazzi/anaconda3/envs/ncar/lib/python3.6/site-packages/torch/nn/modules/module.py(725): _call_impl\n/lus/scratch/arigazzi/anaconda3/envs/ncar/lib/python3.6/site-packages/torchvision/models/resnet.py(116): forward\n/lus/scratch/arigazzi/anaconda3/envs/ncar/lib/python3.6/site-packages/torch/nn/modules/module.py(709): _slow_forward\n/lus/scratch/arigazzi/anaconda3/envs/ncar/lib/python3.6/site-packages/torch/nn/modules/module.py(725): _call_impl\n/lus/scratch/arigazzi/anaconda3/envs/ncar/lib/python3.6/site-packages/torch/nn/modules/container.py(117): forward\n/lus/scratch/arigazzi/anaconda3/envs/ncar/lib/python3.6/site-packages/torch/nn/modules/module.py(709): _slow_forward\n/lus/scratch/arigazzi/anaconda3/envs/ncar/lib/python3.6/site-packages/torch/nn/modules/module.py(725): _call_impl\n/lus/sonexion/arigazzi/ncar/NCAR_ML_EKE/notebooks/nn_models.py(228): _forward_impl\n/lus/sonexion/arigazzi/ncar/NCAR_ML_EKE/notebooks/nn_models.py(239): forward\n/lus/scratch/arigazzi/anaconda3/envs/ncar/lib/python3.6/site-packages/torch/nn/modules/module.py(709): _slow_forward\n/lus/scratch/arigazzi/anaconda3/envs/ncar/lib/python3.6/site-packages/torch/nn/modules/module.py(725): _call_impl\n<ipython-input-15-14239a705605>(17): forward\n/lus/scratch/arigazzi/anaconda3/envs/ncar/lib/python3.6/site-packages/torch/nn/modules/module.py(709): _slow_forward\n/lus/scratch/arigazzi/anaconda3/envs/ncar/lib/python3.6/site-packages/torch/nn/modules/module.py(725): _call_impl\n/lus/scratch/arigazzi/anaconda3/envs/ncar/lib/python3.6/site-packages/torch/jit/_trace.py(940): trace_module\n/lus/scratch/arigazzi/anaconda3/envs/ncar/lib/python3.6/site-packages/torch/jit/_trace.py(742): trace\n<ipython-input-15-14239a705605>(24): <module>\n/lus/scratch/arigazzi/anaconda3/envs/ncar/lib/python3.6/site-packages/IPython/core/interactiveshell.py(3343): run_code\n/lus/scratch/arigazzi/anaconda3/envs/ncar/lib/python3.6/site-packages/IPython/core/interactiveshell.py(3263): run_ast_nodes\n/lus/scratch/arigazzi/anaconda3/envs/ncar/lib/python3.6/site-packages/IPython/core/interactiveshell.py(3072): run_cell_async\n/lus/scratch/arigazzi/anaconda3/envs/ncar/lib/python3.6/site-packages/IPython/core/async_helpers.py(68): _pseudo_sync_runner\n/lus/scratch/arigazzi/anaconda3/envs/ncar/lib/python3.6/site-packages/IPython/core/interactiveshell.py(2895): _run_cell\n/lus/scratch/arigazzi/anaconda3/envs/ncar/lib/python3.6/site-packages/IPython/core/interactiveshell.py(2867): run_cell\n/lus/scratch/arigazzi/anaconda3/envs/ncar/lib/python3.6/site-packages/ipykernel/zmqshell.py(536): run_cell\n/lus/scratch/arigazzi/anaconda3/envs/ncar/lib/python3.6/site-packages/ipykernel/ipkernel.py(306): do_execute\n/lus/scratch/arigazzi/anaconda3/envs/ncar/lib/python3.6/site-packages/contextvars/__init__.py(38): run\n/lus/scratch/arigazzi/anaconda3/envs/ncar/lib/python3.6/site-packages/tornado/gen.py(234): wrapper\n/lus/scratch/arigazzi/anaconda3/envs/ncar/lib/python3.6/site-packages/ipykernel/kernelbase.py(545): execute_request\n/lus/scratch/arigazzi/anaconda3/envs/ncar/lib/python3.6/site-packages/contextvars/__init__.py(38): run\n/lus/scratch/arigazzi/anaconda3/envs/ncar/lib/python3.6/site-packages/tornado/gen.py(234): wrapper\n/lus/scratch/arigazzi/anaconda3/envs/ncar/lib/python3.6/site-packages/ipykernel/kernelbase.py(268): dispatch_shell\n/lus/scratch/arigazzi/anaconda3/envs/ncar/lib/python3.6/site-packages/contextvars/__init__.py(38): run\n/lus/scratch/arigazzi/anaconda3/envs/ncar/lib/python3.6/site-packages/tornado/gen.py(234): wrapper\n/lus/scratch/arigazzi/anaconda3/envs/ncar/lib/python3.6/site-packages/ipykernel/kernelbase.py(365): process_one\n/lus/scratch/arigazzi/anaconda3/envs/ncar/lib/python3.6/site-packages/tornado/gen.py(775): run\n/lus/scratch/arigazzi/anaconda3/envs/ncar/lib/python3.6/site-packages/contextvars/__init__.py(38): run\n/lus/scratch/arigazzi/anaconda3/envs/ncar/lib/python3.6/site-packages/tornado/gen.py(814): inner\n/lus/scratch/arigazzi/anaconda3/envs/ncar/lib/python3.6/site-packages/tornado/ioloop.py(741): _run_callback\n/lus/scratch/arigazzi/anaconda3/envs/ncar/lib/python3.6/site-packages/tornado/ioloop.py(688): <lambda>\n/lus/scratch/arigazzi/anaconda3/envs/ncar/lib/python3.6/asyncio/events.py(145): _run\n/lus/scratch/arigazzi/anaconda3/envs/ncar/lib/python3.6/asyncio/base_events.py(1462): _run_once\n/lus/scratch/arigazzi/anaconda3/envs/ncar/lib/python3.6/asyncio/base_events.py(442): run_forever\n/lus/scratch/arigazzi/anaconda3/envs/ncar/lib/python3.6/site-packages/tornado/platform/asyncio.py(199): start\n/lus/scratch/arigazzi/anaconda3/envs/ncar/lib/python3.6/site-packages/ipykernel/kernelapp.py(612): start\n/lus/scratch/arigazzi/anaconda3/envs/ncar/lib/python3.6/site-packages/traitlets/config/application.py(664): launch_instance\n/lus/scratch/arigazzi/anaconda3/envs/ncar/lib/python3.6/site-packages/ipykernel_launcher.py(16): <module>\n/lus/scratch/arigazzi/anaconda3/envs/ncar/lib/python3.6/runpy.py(85): _run_code\n/lus/scratch/arigazzi/anaconda3/envs/ncar/lib/python3.6/runpy.py(193): _run_module_as_main\nRuntimeError: CUDA out of memory. Tried to allocate 1.88 GiB (GPU 0; 31.75 GiB total capacity; 26.47 GiB already allocated; 843.75 MiB free; 29.78 GiB reserved in total by PyTorch)\n",
     "output_type": "error",
     "traceback": [
      "\u001b[0;31m---------------------------------------------------------------------------\u001b[0m",
      "\u001b[0;31mRuntimeError\u001b[0m                              Traceback (most recent call last)",
      "\u001b[0;32m<ipython-input-23-21764007ba8c>\u001b[0m in \u001b[0;36m<module>\u001b[0;34m\u001b[0m\n\u001b[1;32m      1\u001b[0m \u001b[0mXX\u001b[0m \u001b[0;34m=\u001b[0m \u001b[0mtorch\u001b[0m\u001b[0;34m.\u001b[0m\u001b[0mtensor\u001b[0m\u001b[0;34m(\u001b[0m\u001b[0mnp\u001b[0m\u001b[0;34m.\u001b[0m\u001b[0mreshape\u001b[0m\u001b[0;34m(\u001b[0m\u001b[0msamples\u001b[0m\u001b[0;34m.\u001b[0m\u001b[0mdata\u001b[0m\u001b[0;34m,\u001b[0m \u001b[0;34m[\u001b[0m\u001b[0;34m-\u001b[0m\u001b[0;36m1\u001b[0m\u001b[0;34m,\u001b[0m\u001b[0;36m4\u001b[0m\u001b[0;34m]\u001b[0m\u001b[0;34m)\u001b[0m\u001b[0;34m)\u001b[0m\u001b[0;34m.\u001b[0m\u001b[0mcuda\u001b[0m\u001b[0;34m(\u001b[0m\u001b[0;34m)\u001b[0m\u001b[0;34m\u001b[0m\u001b[0;34m\u001b[0m\u001b[0m\n\u001b[0;32m----> 2\u001b[0;31m \u001b[0my\u001b[0m \u001b[0;34m=\u001b[0m \u001b[0mtraced_cell\u001b[0m\u001b[0;34m(\u001b[0m\u001b[0mXX\u001b[0m\u001b[0;34m)\u001b[0m\u001b[0;34m.\u001b[0m\u001b[0mcpu\u001b[0m\u001b[0;34m(\u001b[0m\u001b[0;34m)\u001b[0m\u001b[0;34m.\u001b[0m\u001b[0mdetach\u001b[0m\u001b[0;34m(\u001b[0m\u001b[0;34m)\u001b[0m\u001b[0;34m.\u001b[0m\u001b[0mnumpy\u001b[0m\u001b[0;34m(\u001b[0m\u001b[0;34m)\u001b[0m\u001b[0;34m\u001b[0m\u001b[0;34m\u001b[0m\u001b[0m\n\u001b[0m\u001b[1;32m      3\u001b[0m \u001b[0my\u001b[0m \u001b[0;34m=\u001b[0m \u001b[0mnp\u001b[0m\u001b[0;34m.\u001b[0m\u001b[0mreshape\u001b[0m\u001b[0;34m(\u001b[0m\u001b[0my\u001b[0m\u001b[0;34m,\u001b[0m \u001b[0mmasks\u001b[0m\u001b[0;34m.\u001b[0m\u001b[0mshape\u001b[0m\u001b[0;34m)\u001b[0m\u001b[0;34m\u001b[0m\u001b[0;34m\u001b[0m\u001b[0m\n",
      "\u001b[0;32m/lus/scratch/arigazzi/anaconda3/envs/ncar/lib/python3.6/site-packages/torch/nn/modules/module.py\u001b[0m in \u001b[0;36m_call_impl\u001b[0;34m(self, *input, **kwargs)\u001b[0m\n\u001b[1;32m    725\u001b[0m             \u001b[0mresult\u001b[0m \u001b[0;34m=\u001b[0m \u001b[0mself\u001b[0m\u001b[0;34m.\u001b[0m\u001b[0m_slow_forward\u001b[0m\u001b[0;34m(\u001b[0m\u001b[0;34m*\u001b[0m\u001b[0minput\u001b[0m\u001b[0;34m,\u001b[0m \u001b[0;34m**\u001b[0m\u001b[0mkwargs\u001b[0m\u001b[0;34m)\u001b[0m\u001b[0;34m\u001b[0m\u001b[0;34m\u001b[0m\u001b[0m\n\u001b[1;32m    726\u001b[0m         \u001b[0;32melse\u001b[0m\u001b[0;34m:\u001b[0m\u001b[0;34m\u001b[0m\u001b[0;34m\u001b[0m\u001b[0m\n\u001b[0;32m--> 727\u001b[0;31m             \u001b[0mresult\u001b[0m \u001b[0;34m=\u001b[0m \u001b[0mself\u001b[0m\u001b[0;34m.\u001b[0m\u001b[0mforward\u001b[0m\u001b[0;34m(\u001b[0m\u001b[0;34m*\u001b[0m\u001b[0minput\u001b[0m\u001b[0;34m,\u001b[0m \u001b[0;34m**\u001b[0m\u001b[0mkwargs\u001b[0m\u001b[0;34m)\u001b[0m\u001b[0;34m\u001b[0m\u001b[0;34m\u001b[0m\u001b[0m\n\u001b[0m\u001b[1;32m    728\u001b[0m         for hook in itertools.chain(\n\u001b[1;32m    729\u001b[0m                 \u001b[0m_global_forward_hooks\u001b[0m\u001b[0;34m.\u001b[0m\u001b[0mvalues\u001b[0m\u001b[0;34m(\u001b[0m\u001b[0;34m)\u001b[0m\u001b[0;34m,\u001b[0m\u001b[0;34m\u001b[0m\u001b[0;34m\u001b[0m\u001b[0m\n",
      "\u001b[0;31mRuntimeError\u001b[0m: The following operation failed in the TorchScript interpreter.\nTraceback of TorchScript (most recent call last):\n/lus/scratch/arigazzi/anaconda3/envs/ncar/lib/python3.6/site-packages/torch/nn/functional.py(2058): batch_norm\n/lus/scratch/arigazzi/anaconda3/envs/ncar/lib/python3.6/site-packages/torch/nn/modules/batchnorm.py(136): forward\n/lus/scratch/arigazzi/anaconda3/envs/ncar/lib/python3.6/site-packages/torch/nn/modules/module.py(709): _slow_forward\n/lus/scratch/arigazzi/anaconda3/envs/ncar/lib/python3.6/site-packages/torch/nn/modules/module.py(725): _call_impl\n/lus/scratch/arigazzi/anaconda3/envs/ncar/lib/python3.6/site-packages/torch/nn/modules/container.py(117): forward\n/lus/scratch/arigazzi/anaconda3/envs/ncar/lib/python3.6/site-packages/torch/nn/modules/module.py(709): _slow_forward\n/lus/scratch/arigazzi/anaconda3/envs/ncar/lib/python3.6/site-packages/torch/nn/modules/module.py(725): _call_impl\n/lus/scratch/arigazzi/anaconda3/envs/ncar/lib/python3.6/site-packages/torchvision/models/resnet.py(116): forward\n/lus/scratch/arigazzi/anaconda3/envs/ncar/lib/python3.6/site-packages/torch/nn/modules/module.py(709): _slow_forward\n/lus/scratch/arigazzi/anaconda3/envs/ncar/lib/python3.6/site-packages/torch/nn/modules/module.py(725): _call_impl\n/lus/scratch/arigazzi/anaconda3/envs/ncar/lib/python3.6/site-packages/torch/nn/modules/container.py(117): forward\n/lus/scratch/arigazzi/anaconda3/envs/ncar/lib/python3.6/site-packages/torch/nn/modules/module.py(709): _slow_forward\n/lus/scratch/arigazzi/anaconda3/envs/ncar/lib/python3.6/site-packages/torch/nn/modules/module.py(725): _call_impl\n/lus/sonexion/arigazzi/ncar/NCAR_ML_EKE/notebooks/nn_models.py(228): _forward_impl\n/lus/sonexion/arigazzi/ncar/NCAR_ML_EKE/notebooks/nn_models.py(239): forward\n/lus/scratch/arigazzi/anaconda3/envs/ncar/lib/python3.6/site-packages/torch/nn/modules/module.py(709): _slow_forward\n/lus/scratch/arigazzi/anaconda3/envs/ncar/lib/python3.6/site-packages/torch/nn/modules/module.py(725): _call_impl\n<ipython-input-15-14239a705605>(17): forward\n/lus/scratch/arigazzi/anaconda3/envs/ncar/lib/python3.6/site-packages/torch/nn/modules/module.py(709): _slow_forward\n/lus/scratch/arigazzi/anaconda3/envs/ncar/lib/python3.6/site-packages/torch/nn/modules/module.py(725): _call_impl\n/lus/scratch/arigazzi/anaconda3/envs/ncar/lib/python3.6/site-packages/torch/jit/_trace.py(940): trace_module\n/lus/scratch/arigazzi/anaconda3/envs/ncar/lib/python3.6/site-packages/torch/jit/_trace.py(742): trace\n<ipython-input-15-14239a705605>(24): <module>\n/lus/scratch/arigazzi/anaconda3/envs/ncar/lib/python3.6/site-packages/IPython/core/interactiveshell.py(3343): run_code\n/lus/scratch/arigazzi/anaconda3/envs/ncar/lib/python3.6/site-packages/IPython/core/interactiveshell.py(3263): run_ast_nodes\n/lus/scratch/arigazzi/anaconda3/envs/ncar/lib/python3.6/site-packages/IPython/core/interactiveshell.py(3072): run_cell_async\n/lus/scratch/arigazzi/anaconda3/envs/ncar/lib/python3.6/site-packages/IPython/core/async_helpers.py(68): _pseudo_sync_runner\n/lus/scratch/arigazzi/anaconda3/envs/ncar/lib/python3.6/site-packages/IPython/core/interactiveshell.py(2895): _run_cell\n/lus/scratch/arigazzi/anaconda3/envs/ncar/lib/python3.6/site-packages/IPython/core/interactiveshell.py(2867): run_cell\n/lus/scratch/arigazzi/anaconda3/envs/ncar/lib/python3.6/site-packages/ipykernel/zmqshell.py(536): run_cell\n/lus/scratch/arigazzi/anaconda3/envs/ncar/lib/python3.6/site-packages/ipykernel/ipkernel.py(306): do_execute\n/lus/scratch/arigazzi/anaconda3/envs/ncar/lib/python3.6/site-packages/contextvars/__init__.py(38): run\n/lus/scratch/arigazzi/anaconda3/envs/ncar/lib/python3.6/site-packages/tornado/gen.py(234): wrapper\n/lus/scratch/arigazzi/anaconda3/envs/ncar/lib/python3.6/site-packages/ipykernel/kernelbase.py(545): execute_request\n/lus/scratch/arigazzi/anaconda3/envs/ncar/lib/python3.6/site-packages/contextvars/__init__.py(38): run\n/lus/scratch/arigazzi/anaconda3/envs/ncar/lib/python3.6/site-packages/tornado/gen.py(234): wrapper\n/lus/scratch/arigazzi/anaconda3/envs/ncar/lib/python3.6/site-packages/ipykernel/kernelbase.py(268): dispatch_shell\n/lus/scratch/arigazzi/anaconda3/envs/ncar/lib/python3.6/site-packages/contextvars/__init__.py(38): run\n/lus/scratch/arigazzi/anaconda3/envs/ncar/lib/python3.6/site-packages/tornado/gen.py(234): wrapper\n/lus/scratch/arigazzi/anaconda3/envs/ncar/lib/python3.6/site-packages/ipykernel/kernelbase.py(365): process_one\n/lus/scratch/arigazzi/anaconda3/envs/ncar/lib/python3.6/site-packages/tornado/gen.py(775): run\n/lus/scratch/arigazzi/anaconda3/envs/ncar/lib/python3.6/site-packages/contextvars/__init__.py(38): run\n/lus/scratch/arigazzi/anaconda3/envs/ncar/lib/python3.6/site-packages/tornado/gen.py(814): inner\n/lus/scratch/arigazzi/anaconda3/envs/ncar/lib/python3.6/site-packages/tornado/ioloop.py(741): _run_callback\n/lus/scratch/arigazzi/anaconda3/envs/ncar/lib/python3.6/site-packages/tornado/ioloop.py(688): <lambda>\n/lus/scratch/arigazzi/anaconda3/envs/ncar/lib/python3.6/asyncio/events.py(145): _run\n/lus/scratch/arigazzi/anaconda3/envs/ncar/lib/python3.6/asyncio/base_events.py(1462): _run_once\n/lus/scratch/arigazzi/anaconda3/envs/ncar/lib/python3.6/asyncio/base_events.py(442): run_forever\n/lus/scratch/arigazzi/anaconda3/envs/ncar/lib/python3.6/site-packages/tornado/platform/asyncio.py(199): start\n/lus/scratch/arigazzi/anaconda3/envs/ncar/lib/python3.6/site-packages/ipykernel/kernelapp.py(612): start\n/lus/scratch/arigazzi/anaconda3/envs/ncar/lib/python3.6/site-packages/traitlets/config/application.py(664): launch_instance\n/lus/scratch/arigazzi/anaconda3/envs/ncar/lib/python3.6/site-packages/ipykernel_launcher.py(16): <module>\n/lus/scratch/arigazzi/anaconda3/envs/ncar/lib/python3.6/runpy.py(85): _run_code\n/lus/scratch/arigazzi/anaconda3/envs/ncar/lib/python3.6/runpy.py(193): _run_module_as_main\nRuntimeError: CUDA out of memory. Tried to allocate 1.88 GiB (GPU 0; 31.75 GiB total capacity; 26.47 GiB already allocated; 843.75 MiB free; 29.78 GiB reserved in total by PyTorch)\n"
     ]
    }
   ],
   "source": [
    "XX = torch.tensor(np.reshape(samples.data, [-1,4])).cuda()\n",
    "y = traced_cell(XX).cpu().detach().numpy()\n",
    "y = np.reshape(y, masks.shape)"
   ]
  },
  {
   "cell_type": "code",
   "execution_count": 76,
   "id": "proof-multimedia",
   "metadata": {},
   "outputs": [
    {
     "data": {
      "text/plain": [
       "(1, 455, 540)"
      ]
     },
     "execution_count": 76,
     "metadata": {},
     "output_type": "execute_result"
    }
   ],
   "source": [
    "y.shape"
   ]
  },
  {
   "cell_type": "code",
   "execution_count": 90,
   "id": "normal-sociology",
   "metadata": {},
   "outputs": [
    {
     "name": "stdout",
     "output_type": "stream",
     "text": [
      "[[9.06076841e-03 8.46076990e-04 1.04566619e-01 1.80023585e-06]\n",
      " [1.14557082e-02 7.31671578e-04 1.06742032e-01 3.25748147e-07]\n",
      " [1.27072595e-02 6.20163453e-04 1.04813807e-01 2.15090154e-07]\n",
      " [1.35405315e-02 4.39233321e-04 1.04433298e-01 2.08898257e-07]\n",
      " [1.40329227e-02 1.02277212e-04 1.06420882e-01 1.82905566e-07]\n",
      " [1.42637398e-02 6.32360534e-05 1.10038370e-01 1.60011325e-07]\n",
      " [1.40205594e-02 1.29481821e-04 1.14434764e-01 1.74848282e-07]\n",
      " [1.32208541e-02 5.47610049e-04 1.18207753e-01 2.64956100e-07]\n",
      " [1.16693405e-02 1.79637980e-03 1.17529109e-01 5.78973982e-07]\n",
      " [9.22169536e-03 2.42539844e-03 1.15817361e-01 1.07093922e-06]]\n",
      "[[ 0.6798828  -1.1614282  -0.5700522   1.0578594 ]\n",
      " [ 0.8041998  -1.2455815  -0.56824106  0.97957164]\n",
      " [ 0.85915935 -1.3413609  -0.5698464   0.9605639 ]\n",
      " [ 0.8928257  -1.5411764  -0.57016325  0.95922625]\n",
      " [ 0.9117586  -2.3853512  -0.5685084   0.9531412 ]\n",
      " [ 0.9204063  -2.6638649  -0.56549656  0.9470173 ]\n",
      " [ 0.91129154 -2.2487319  -0.56183624  0.9510781 ]\n",
      " [ 0.8801615  -1.4134318  -0.55869496  0.9701123 ]\n",
      " [ 0.81399375 -0.7252959  -0.55925995  1.0059096 ]\n",
      " [ 0.6892144  -0.5513903  -0.5606851   1.0340745 ]]\n",
      "[[-3.93255711]\n",
      " [-4.41034174]\n",
      " [-4.44963264]\n",
      " [-4.43790483]\n",
      " [-4.4358964 ]\n",
      " [-4.37646914]\n",
      " [-4.48078585]\n",
      " [-4.42410326]\n",
      " [-4.13580656]\n",
      " [-4.23903561]]\n"
     ]
    }
   ],
   "source": [
    "print(samples.data[masks][:10,:])\n",
    "\n",
    "print(feats[:10,:])\n",
    "\n",
    "print(preds[:10, :])"
   ]
  },
  {
   "cell_type": "code",
   "execution_count": 20,
   "id": "charming-herald",
   "metadata": {},
   "outputs": [
    {
     "ename": "ValueError",
     "evalue": "not enough values to unpack (expected 2, got 1)",
     "output_type": "error",
     "traceback": [
      "\u001b[0;31m---------------------------------------------------------------------------\u001b[0m",
      "\u001b[0;31mValueError\u001b[0m                                Traceback (most recent call last)",
      "\u001b[0;32m<ipython-input-20-d75d7cfe1931>\u001b[0m in \u001b[0;36m<module>\u001b[0;34m\u001b[0m\n\u001b[1;32m      1\u001b[0m \u001b[0mplt\u001b[0m\u001b[0;34m.\u001b[0m\u001b[0mfigure\u001b[0m\u001b[0;34m(\u001b[0m\u001b[0mfigsize\u001b[0m\u001b[0;34m=\u001b[0m\u001b[0;34m(\u001b[0m\u001b[0;36m16\u001b[0m\u001b[0;34m,\u001b[0m\u001b[0;36m8\u001b[0m\u001b[0;34m)\u001b[0m\u001b[0;34m)\u001b[0m\u001b[0;34m\u001b[0m\u001b[0;34m\u001b[0m\u001b[0m\n\u001b[0;32m----> 2\u001b[0;31m \u001b[0mplt\u001b[0m\u001b[0;34m.\u001b[0m\u001b[0mpcolormesh\u001b[0m\u001b[0;34m(\u001b[0m\u001b[0my\u001b[0m\u001b[0;34m.\u001b[0m\u001b[0msqueeze\u001b[0m\u001b[0;34m(\u001b[0m\u001b[0;34m)\u001b[0m\u001b[0;34m,\u001b[0m \u001b[0mvmin\u001b[0m\u001b[0;34m=\u001b[0m\u001b[0;34m-\u001b[0m\u001b[0;36m12\u001b[0m\u001b[0;34m,\u001b[0m \u001b[0mvmax\u001b[0m\u001b[0;34m=\u001b[0m\u001b[0;34m-\u001b[0m\u001b[0;36m2\u001b[0m\u001b[0;34m)\u001b[0m\u001b[0;34m\u001b[0m\u001b[0;34m\u001b[0m\u001b[0m\n\u001b[0m\u001b[1;32m      3\u001b[0m \u001b[0mplt\u001b[0m\u001b[0;34m.\u001b[0m\u001b[0mcolorbar\u001b[0m\u001b[0;34m(\u001b[0m\u001b[0;34m)\u001b[0m\u001b[0;34m\u001b[0m\u001b[0;34m\u001b[0m\u001b[0m\n\u001b[1;32m      4\u001b[0m \u001b[0mplt\u001b[0m\u001b[0;34m.\u001b[0m\u001b[0mdraw\u001b[0m\u001b[0;34m(\u001b[0m\u001b[0;34m)\u001b[0m\u001b[0;34m\u001b[0m\u001b[0;34m\u001b[0m\u001b[0m\n",
      "\u001b[0;32m/lus/scratch/arigazzi/anaconda3/envs/ncar/lib/python3.6/site-packages/matplotlib/pyplot.py\u001b[0m in \u001b[0;36mpcolormesh\u001b[0;34m(alpha, norm, cmap, vmin, vmax, shading, antialiased, data, *args, **kwargs)\u001b[0m\n\u001b[1;32m   2802\u001b[0m         \u001b[0;34m*\u001b[0m\u001b[0margs\u001b[0m\u001b[0;34m,\u001b[0m \u001b[0malpha\u001b[0m\u001b[0;34m=\u001b[0m\u001b[0malpha\u001b[0m\u001b[0;34m,\u001b[0m \u001b[0mnorm\u001b[0m\u001b[0;34m=\u001b[0m\u001b[0mnorm\u001b[0m\u001b[0;34m,\u001b[0m \u001b[0mcmap\u001b[0m\u001b[0;34m=\u001b[0m\u001b[0mcmap\u001b[0m\u001b[0;34m,\u001b[0m \u001b[0mvmin\u001b[0m\u001b[0;34m=\u001b[0m\u001b[0mvmin\u001b[0m\u001b[0;34m,\u001b[0m\u001b[0;34m\u001b[0m\u001b[0;34m\u001b[0m\u001b[0m\n\u001b[1;32m   2803\u001b[0m         \u001b[0mvmax\u001b[0m\u001b[0;34m=\u001b[0m\u001b[0mvmax\u001b[0m\u001b[0;34m,\u001b[0m \u001b[0mshading\u001b[0m\u001b[0;34m=\u001b[0m\u001b[0mshading\u001b[0m\u001b[0;34m,\u001b[0m \u001b[0mantialiased\u001b[0m\u001b[0;34m=\u001b[0m\u001b[0mantialiased\u001b[0m\u001b[0;34m,\u001b[0m\u001b[0;34m\u001b[0m\u001b[0;34m\u001b[0m\u001b[0m\n\u001b[0;32m-> 2804\u001b[0;31m         **({\"data\": data} if data is not None else {}), **kwargs)\n\u001b[0m\u001b[1;32m   2805\u001b[0m     \u001b[0msci\u001b[0m\u001b[0;34m(\u001b[0m\u001b[0m__ret\u001b[0m\u001b[0;34m)\u001b[0m\u001b[0;34m\u001b[0m\u001b[0;34m\u001b[0m\u001b[0m\n\u001b[1;32m   2806\u001b[0m     \u001b[0;32mreturn\u001b[0m \u001b[0m__ret\u001b[0m\u001b[0;34m\u001b[0m\u001b[0;34m\u001b[0m\u001b[0m\n",
      "\u001b[0;32m/lus/scratch/arigazzi/anaconda3/envs/ncar/lib/python3.6/site-packages/matplotlib/__init__.py\u001b[0m in \u001b[0;36minner\u001b[0;34m(ax, data, *args, **kwargs)\u001b[0m\n\u001b[1;32m   1436\u001b[0m     \u001b[0;32mdef\u001b[0m \u001b[0minner\u001b[0m\u001b[0;34m(\u001b[0m\u001b[0max\u001b[0m\u001b[0;34m,\u001b[0m \u001b[0;34m*\u001b[0m\u001b[0margs\u001b[0m\u001b[0;34m,\u001b[0m \u001b[0mdata\u001b[0m\u001b[0;34m=\u001b[0m\u001b[0;32mNone\u001b[0m\u001b[0;34m,\u001b[0m \u001b[0;34m**\u001b[0m\u001b[0mkwargs\u001b[0m\u001b[0;34m)\u001b[0m\u001b[0;34m:\u001b[0m\u001b[0;34m\u001b[0m\u001b[0;34m\u001b[0m\u001b[0m\n\u001b[1;32m   1437\u001b[0m         \u001b[0;32mif\u001b[0m \u001b[0mdata\u001b[0m \u001b[0;32mis\u001b[0m \u001b[0;32mNone\u001b[0m\u001b[0;34m:\u001b[0m\u001b[0;34m\u001b[0m\u001b[0;34m\u001b[0m\u001b[0m\n\u001b[0;32m-> 1438\u001b[0;31m             \u001b[0;32mreturn\u001b[0m \u001b[0mfunc\u001b[0m\u001b[0;34m(\u001b[0m\u001b[0max\u001b[0m\u001b[0;34m,\u001b[0m \u001b[0;34m*\u001b[0m\u001b[0mmap\u001b[0m\u001b[0;34m(\u001b[0m\u001b[0msanitize_sequence\u001b[0m\u001b[0;34m,\u001b[0m \u001b[0margs\u001b[0m\u001b[0;34m)\u001b[0m\u001b[0;34m,\u001b[0m \u001b[0;34m**\u001b[0m\u001b[0mkwargs\u001b[0m\u001b[0;34m)\u001b[0m\u001b[0;34m\u001b[0m\u001b[0;34m\u001b[0m\u001b[0m\n\u001b[0m\u001b[1;32m   1439\u001b[0m \u001b[0;34m\u001b[0m\u001b[0m\n\u001b[1;32m   1440\u001b[0m         \u001b[0mbound\u001b[0m \u001b[0;34m=\u001b[0m \u001b[0mnew_sig\u001b[0m\u001b[0;34m.\u001b[0m\u001b[0mbind\u001b[0m\u001b[0;34m(\u001b[0m\u001b[0max\u001b[0m\u001b[0;34m,\u001b[0m \u001b[0;34m*\u001b[0m\u001b[0margs\u001b[0m\u001b[0;34m,\u001b[0m \u001b[0;34m**\u001b[0m\u001b[0mkwargs\u001b[0m\u001b[0;34m)\u001b[0m\u001b[0;34m\u001b[0m\u001b[0;34m\u001b[0m\u001b[0m\n",
      "\u001b[0;32m/lus/scratch/arigazzi/anaconda3/envs/ncar/lib/python3.6/site-packages/matplotlib/axes/_axes.py\u001b[0m in \u001b[0;36mpcolormesh\u001b[0;34m(self, alpha, norm, cmap, vmin, vmax, shading, antialiased, *args, **kwargs)\u001b[0m\n\u001b[1;32m   6092\u001b[0m \u001b[0;34m\u001b[0m\u001b[0m\n\u001b[1;32m   6093\u001b[0m         X, Y, C, shading = self._pcolorargs('pcolormesh', *args,\n\u001b[0;32m-> 6094\u001b[0;31m                                             shading=shading)\n\u001b[0m\u001b[1;32m   6095\u001b[0m         \u001b[0mNy\u001b[0m\u001b[0;34m,\u001b[0m \u001b[0mNx\u001b[0m \u001b[0;34m=\u001b[0m \u001b[0mX\u001b[0m\u001b[0;34m.\u001b[0m\u001b[0mshape\u001b[0m\u001b[0;34m\u001b[0m\u001b[0;34m\u001b[0m\u001b[0m\n\u001b[1;32m   6096\u001b[0m         \u001b[0mX\u001b[0m \u001b[0;34m=\u001b[0m \u001b[0mX\u001b[0m\u001b[0;34m.\u001b[0m\u001b[0mravel\u001b[0m\u001b[0;34m(\u001b[0m\u001b[0;34m)\u001b[0m\u001b[0;34m\u001b[0m\u001b[0;34m\u001b[0m\u001b[0m\n",
      "\u001b[0;32m/lus/scratch/arigazzi/anaconda3/envs/ncar/lib/python3.6/site-packages/matplotlib/axes/_axes.py\u001b[0m in \u001b[0;36m_pcolorargs\u001b[0;34m(funcname, shading, *args)\u001b[0m\n\u001b[1;32m   5555\u001b[0m         \u001b[0;32mif\u001b[0m \u001b[0mlen\u001b[0m\u001b[0;34m(\u001b[0m\u001b[0margs\u001b[0m\u001b[0;34m)\u001b[0m \u001b[0;34m==\u001b[0m \u001b[0;36m1\u001b[0m\u001b[0;34m:\u001b[0m\u001b[0;34m\u001b[0m\u001b[0;34m\u001b[0m\u001b[0m\n\u001b[1;32m   5556\u001b[0m             \u001b[0mC\u001b[0m \u001b[0;34m=\u001b[0m \u001b[0mnp\u001b[0m\u001b[0;34m.\u001b[0m\u001b[0masanyarray\u001b[0m\u001b[0;34m(\u001b[0m\u001b[0margs\u001b[0m\u001b[0;34m[\u001b[0m\u001b[0;36m0\u001b[0m\u001b[0;34m]\u001b[0m\u001b[0;34m)\u001b[0m\u001b[0;34m\u001b[0m\u001b[0;34m\u001b[0m\u001b[0m\n\u001b[0;32m-> 5557\u001b[0;31m             \u001b[0mnrows\u001b[0m\u001b[0;34m,\u001b[0m \u001b[0mncols\u001b[0m \u001b[0;34m=\u001b[0m \u001b[0mC\u001b[0m\u001b[0;34m.\u001b[0m\u001b[0mshape\u001b[0m\u001b[0;34m\u001b[0m\u001b[0;34m\u001b[0m\u001b[0m\n\u001b[0m\u001b[1;32m   5558\u001b[0m             \u001b[0;32mif\u001b[0m \u001b[0mshading\u001b[0m \u001b[0;32min\u001b[0m \u001b[0;34m[\u001b[0m\u001b[0;34m'gouraud'\u001b[0m\u001b[0;34m,\u001b[0m \u001b[0;34m'nearest'\u001b[0m\u001b[0;34m]\u001b[0m\u001b[0;34m:\u001b[0m\u001b[0;34m\u001b[0m\u001b[0;34m\u001b[0m\u001b[0m\n\u001b[1;32m   5559\u001b[0m                 \u001b[0mX\u001b[0m\u001b[0;34m,\u001b[0m \u001b[0mY\u001b[0m \u001b[0;34m=\u001b[0m \u001b[0mnp\u001b[0m\u001b[0;34m.\u001b[0m\u001b[0mmeshgrid\u001b[0m\u001b[0;34m(\u001b[0m\u001b[0mnp\u001b[0m\u001b[0;34m.\u001b[0m\u001b[0marange\u001b[0m\u001b[0;34m(\u001b[0m\u001b[0mncols\u001b[0m\u001b[0;34m)\u001b[0m\u001b[0;34m,\u001b[0m \u001b[0mnp\u001b[0m\u001b[0;34m.\u001b[0m\u001b[0marange\u001b[0m\u001b[0;34m(\u001b[0m\u001b[0mnrows\u001b[0m\u001b[0;34m)\u001b[0m\u001b[0;34m)\u001b[0m\u001b[0;34m\u001b[0m\u001b[0;34m\u001b[0m\u001b[0m\n",
      "\u001b[0;31mValueError\u001b[0m: not enough values to unpack (expected 2, got 1)"
     ]
    },
    {
     "data": {
      "image/png": "[encoded data removed]",
      "text/plain": [
       "<Figure size 1152x576 with 1 Axes>"
      ]
     },
     "metadata": {
      "needs_background": "light"
     },
     "output_type": "display_data"
    }
   ],
   "source": [
    "plt.figure(figsize=(16,8))\n",
    "plt.pcolormesh(y.squeeze(), vmin=-12, vmax=-2)\n",
    "plt.colorbar()\n",
    "plt.draw()"
   ]
  },
  {
   "cell_type": "code",
   "execution_count": null,
   "id": "complimentary-appendix",
   "metadata": {},
   "outputs": [],
   "source": []
  }
 ],
 "metadata": {
  "kernelspec": {
   "display_name": "ncar",
   "language": "python",
   "name": "ncar"
  },
  "language_info": {
   "codemirror_mode": {
    "name": "ipython",
    "version": 3
   },
   "file_extension": ".py",
   "mimetype": "text/x-python",
   "name": "python",
   "nbconvert_exporter": "python",
   "pygments_lexer": "ipython3",
   "version": "3.6.12"
  }
 },
 "nbformat": 4,
 "nbformat_minor": 5
}
