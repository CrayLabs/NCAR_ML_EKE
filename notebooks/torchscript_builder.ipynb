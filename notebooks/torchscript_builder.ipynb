{
 "cells": [
  {
   "cell_type": "code",
   "execution_count": 3,
   "id": "dietary-freight",
   "metadata": {},
   "outputs": [],
   "source": [
    "import numpy as np # linear algebra\n",
    "import pandas as pd\n",
    "import torch\n",
    "import os\n",
    "from utils import *\n",
    "from tqdm import tqdm\n",
    "import matplotlib.pyplot as plt\n"
   ]
  },
  {
   "cell_type": "code",
   "execution_count": 4,
   "id": "surrounded-belarus",
   "metadata": {},
   "outputs": [
    {
     "name": "stderr",
     "output_type": "stream",
     "text": [
      "Extracting samples: 100%|██████████| 1/1 [00:00<00:00, 33.34it/s]\n",
      "Extracting 2D samples: 0it [00:00, ?it/s]\n"
     ]
    }
   ],
   "source": [
    " columns = [\n",
    "           'MKE_sfc',\n",
    "           'Rd_dx_sfc',\n",
    "           'relative_vorticity_sfc',\n",
    "           'grad_SSH_sfc',\n",
    "           ]\n",
    "\n",
    "device = 'cpu'\n",
    "model_path = '../ml_eke/nn/trained_models/ResNet_4_mse.pkl'\n",
    "model_name = os.path.basename(model_path).split('.')[0]\n",
    "\n",
    "model_mse = torch.load(model_path, map_location=torch.device(device))\n",
    "\n",
    "datapaths_2_3 = ('./data/2_3_SSH/', './data/2_3_SSH/')\n",
    "first_suffixes_2_3 = ('_17_001.nc', '_17_001.nc')\n",
    "datapaths_1_4 = ('./data/1_4_SSH/', './data/1_4_SSH/')\n",
    "first_suffixes_1_4 = ('_1916_001.nc', '_1916_001.nc')\n",
    "\n",
    "datapaths = datapaths_2_3\n",
    "first_suffixes = first_suffixes_2_3\n",
    "last_dir = os.path.normpath(datapaths[0]).split(os.sep)[-1]\n",
    "\n",
    "model_data = pop_data(datapaths[0], datapaths[0], skip_vars = ['x','y','depth','depth_stdev'], extra_pref=None, first_suffix=first_suffixes[0])\n",
    "# Uncomment if needed\n",
    "#model_data.extend_inventory(datapaths[1],first_suffix=first_suffixes[1])\n",
    "\n",
    "scaler = np.load('./data/scaler_cf_all_4.npy')\n",
    "\n",
    "num_samples = 1\n",
    "dataset = get_samples(0, num_samples, columns, model_data, predictands=['MEKE_sfc']).values[:, :len(columns)]\n",
    "samples, targets, masks = get_samples_2D(0, num_samples, columns, model_data, predictands=['MEKE_sfc'])\n",
    "\n",
    "feat_avg = scaler[0,:]\n",
    "feat_sd  = scaler[1,:]"
   ]
  },
  {
   "cell_type": "code",
   "execution_count": 5,
   "id": "specified-translation",
   "metadata": {},
   "outputs": [],
   "source": [
    "# torchscript\n",
    "model_mse.eval()\n",
    "class InferenceCell(torch.nn.Module):\n",
    "    \n",
    "    def __init__(self):\n",
    "        super(InferenceCell, self).__init__()\n",
    "        self.model = model_mse\n",
    "\n",
    "        self.feat_avg = torch.tensor(feat_avg, dtype=torch.float32).to(device)\n",
    "        self.feat_sd = torch.tensor(feat_sd, dtype=torch.float32).to(device)\n",
    "        \n",
    "    def forward(self, x):\n",
    "        # The features for which log of absolute value has to be taken:\n",
    "        x[:,[2]] = (torch.log(torch.abs(x[:,[2]]))+36.0)*torch.sign(x[:,[2]])\n",
    "        # The features for which log has to be taken:\n",
    "        x[:,[0]] = torch.log(x[:,[0]])\n",
    "        x[:,[3]] = torch.log(x[:,[3]])\n",
    "        x = (x - self.feat_avg) / self.feat_sd\n",
    "        x = self.model(x)\n",
    "        return x\n",
    "\n",
    "inference_cell = InferenceCell()\n",
    "traced_sample = dataset[0:10,:].copy()\n",
    "x = torch.tensor(traced_sample).to(device)\n",
    "traced_cell = torch.jit.trace(inference_cell, (x))"
   ]
  },
  {
   "cell_type": "code",
   "execution_count": 6,
   "id": "former-salvation",
   "metadata": {},
   "outputs": [
    {
     "name": "stdout",
     "output_type": "stream",
     "text": [
      "return:  [[-6.553612 ]\n",
      " [-5.939887 ]\n",
      " [-6.7934365]\n",
      " [-6.8902   ]\n",
      " [-6.4566636]\n",
      " [-6.5427155]\n",
      " [-6.3592315]\n",
      " [-6.3366103]\n",
      " [-6.212073 ]\n",
      " [-5.788778 ]]\n"
     ]
    }
   ],
   "source": [
    "traced_sample = dataset[-10:,:].copy()\n",
    "x = torch.tensor(traced_sample).to(device)\n",
    "print(\"return: \", traced_cell(x).cpu().detach().numpy())"
   ]
  },
  {
   "cell_type": "code",
   "execution_count": 7,
   "id": "federal-dating",
   "metadata": {},
   "outputs": [],
   "source": [
    "save = False\n",
    "load = False\n",
    "\n",
    "xpu = 'gpu' if device.startswith('cuda') else 'cpu'\n",
    "torchscript_name = f'../ml_eke/nn/trained_models/{model_name}.{xpu}.pt'\n",
    "\n",
    "last_dir = os.path.normpath(datapaths[0]).split(os.sep)[-1]\n",
    "if save:\n",
    "    traced_cell.save(torchscript_name)\n",
    "    \n",
    "if load:\n",
    "    traced_cell = torch.jit.load(f'./ml_eke/nn/trained_models/{model_name}.{xpu}.pt')\n",
    "    \n"
   ]
  },
  {
   "cell_type": "code",
   "execution_count": 8,
   "id": "talented-baghdad",
   "metadata": {},
   "outputs": [
    {
     "name": "stdout",
     "output_type": "stream",
     "text": [
      "Elapsed time per sample 21.544044808021066 microseconds\n"
     ]
    }
   ],
   "source": [
    "from time import time\n",
    "\n",
    "\n",
    "XX = torch.tensor(dataset[0:20000,:]).to(device)\n",
    "\n",
    "t1 = time()\n",
    "y = traced_cell(XX)\n",
    "t2 = time()\n",
    "\n",
    "y = y.detach().cpu().numpy()\n",
    "print(f'Elapsed time per sample {(t2-t1)/dataset.shape[0]/1e-6} microseconds')\n"
   ]
  },
  {
   "cell_type": "code",
   "execution_count": 9,
   "id": "spiritual-arkansas",
   "metadata": {},
   "outputs": [
    {
     "data": {
      "image/png": "[encoded data removed]",
      "text/plain": [
       "<Figure size 576x576 with 1 Axes>"
      ]
     },
     "metadata": {
      "needs_background": "light"
     },
     "output_type": "display_data"
    }
   ],
   "source": [
    "plt.figure(figsize=(8,8))\n",
    "plt.hist(y, bins=100, density=True, alpha=0.2, color='red')\n",
    "plt.draw()"
   ]
  },
  {
   "cell_type": "code",
   "execution_count": 10,
   "id": "1997ad90-ecb0-49bd-91f0-8a971da73ac4",
   "metadata": {},
   "outputs": [],
   "source": [
    "# Need to chunk predictions, if GPU memory is not enough. This should be OK for 16 GB\n",
    "chunked = True\n",
    "\n",
    "samples_tab = np.reshape(samples.data, [-1,4])\n",
    "y = np.zeros((samples_tab.shape[0],1))\n",
    "\n",
    "\n",
    "if chunked:\n",
    "    XX = torch.tensor(samples_tab[:samples_tab.shape[0]//4,:]).to(device)\n",
    "    y[:samples_tab.shape[0]//4] = traced_cell(XX).cpu().detach().numpy()\n",
    "\n",
    "    XX = torch.tensor(samples_tab[samples_tab.shape[0]//4:samples_tab.shape[0]//2,:]).to(device)\n",
    "    y[samples_tab.shape[0]//4:samples_tab.shape[0]//2] = traced_cell(XX).cpu().detach().numpy()\n",
    "\n",
    "    XX = torch.tensor(samples_tab[samples_tab.shape[0]//2:samples_tab.shape[0]//4*3,:]).to(device)\n",
    "    y[samples_tab.shape[0]//2:samples_tab.shape[0]//4*3] = traced_cell(XX).cpu().detach().numpy()\n",
    "\n",
    "    XX = torch.tensor(samples_tab[samples_tab.shape[0]//4*3:,:]).to(device)\n",
    "    y[samples_tab.shape[0]//4*3:] = traced_cell(XX).cpu().detach().numpy()\n",
    "else:\n",
    "    XX = torch.tensor(samples_tab).to(device)\n",
    "    y = traced_cell(XX).cpu().detach().numpy()\n",
    "\n",
    "y = np.reshape(y, masks.shape)\n",
    "y[~masks] = np.nan"
   ]
  },
  {
   "cell_type": "code",
   "execution_count": 10,
   "id": "240778c7-adb0-4290-89a9-fa88ce2c0e93",
   "metadata": {},
   "outputs": [],
   "source": [
    "plt.figure(figsize=(20,10))\n",
    "plt.pcolormesh(np.log10(np.exp(y.squeeze())), vmin=-3, vmax=-0.0)\n",
    "\n",
    "plt.colorbar()\n",
    "plt.draw()"
   ]
  },
  {
   "cell_type": "code",
   "execution_count": null,
   "id": "practical-trademark",
   "metadata": {},
   "outputs": [],
   "source": []
  }
 ],
 "metadata": {
  "kernelspec": {
   "display_name": "ncar",
   "language": "python",
   "name": "ncar"
  },
  "language_info": {
   "codemirror_mode": {
    "name": "ipython",
    "version": 3
   },
   "file_extension": ".py",
   "mimetype": "text/x-python",
   "name": "python",
   "nbconvert_exporter": "python",
   "pygments_lexer": "ipython3",
   "version": "3.6.12"
  }
 },
 "nbformat": 4,
 "nbformat_minor": 5
}
