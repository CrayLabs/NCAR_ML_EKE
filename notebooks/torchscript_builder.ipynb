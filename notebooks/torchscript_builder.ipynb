{
 "cells": [
  {
   "cell_type": "code",
   "execution_count": 32,
   "id": "boolean-trigger",
   "metadata": {},
   "outputs": [],
   "source": [
    "import numpy as np # linear algebra\n",
    "import pandas as pd\n",
    "import torch\n",
    "import os\n",
    "import ml_eke\n",
    "from tqdm import tqdm"
   ]
  },
  {
   "cell_type": "code",
   "execution_count": 33,
   "id": "outer-mailman",
   "metadata": {},
   "outputs": [],
   "source": [
    "def get_samples(start, end, columns, model_data, predictands=['EKE_sfc']):\n",
    "\n",
    "    samples = []\n",
    "    targets = []\n",
    "    for sample in tqdm(range(start, end), desc=\"Extracting samples\"):\n",
    "        X, Y, mask = model_data.extract_sample_from_time(predictors=columns, predictands=predictands, sample_idx=sample)\n",
    "        samples.append(pd.DataFrame(X.data, columns=columns))\n",
    "        targets.append(pd.DataFrame(Y.data, columns=[\"EKE\"]))\n",
    "\n",
    "    data = pd.concat(samples).reset_index()\n",
    "    data.drop(\"index\", inplace=True, axis=1)\n",
    "    targets = pd.concat(targets).reset_index()\n",
    "    targets.drop(\"index\", inplace=True, axis=1)\n",
    "    data[\"EKE\"] = targets[\"EKE\"]\n",
    "    \n",
    "    return data\n"
   ]
  },
  {
   "cell_type": "code",
   "execution_count": 46,
   "id": "secure-verification",
   "metadata": {},
   "outputs": [
    {
     "name": "stderr",
     "output_type": "stream",
     "text": [
      "Extracting samples: 100%|██████████| 366/366 [00:13<00:00, 27.62it/s]\n"
     ]
    }
   ],
   "source": [
    "columns_6_features = ['MKE_sfc',\n",
    "                      'slope_z',\n",
    "                      'Rd_dx_z',\n",
    "                      'relative_vorticity_sfc',\n",
    "                      'divergence_sfc',\n",
    "                      'deformation_sfc'\n",
    "                      ]\n",
    "\n",
    "columns_4_features = columns_6_features[0:4]\n",
    "\n",
    "columns_5_features = columns_4_features + ['grad_SSH_sfc']\n",
    "\n",
    "columns = columns_4_features\n",
    "\n",
    "model_path = './ml_eke/nn/pytorch/trained_models/ResNetSmall_4_customuncapped_cf_all_4_feat.pkl'\n",
    "model_name = os.path.basename(model_path).split('.')[0]\n",
    "\n",
    "model_mse = torch.load(model_path, map_location=torch.device('cpu'))\n",
    "\n",
    "datapaths_2_3 = ('/lus/scratch/ashao/data/2_3/', '/lus/scratch/ashao/data/2_3_SSH/')\n",
    "first_suffixes_2_3 = ('_01_001.nc', '_16_001.nc')\n",
    "datapaths_1_4 = ('/lus/scratch/ashao/data/1_4/', '/lus/scratch/ashao/data/1_4_SSH/')\n",
    "first_suffixes_1_4 = ('_1915_001.nc', '_18_001.nc')\n",
    "\n",
    "datapaths = datapaths_2_3\n",
    "first_suffixes = first_suffixes_2_3\n",
    "\n",
    "model_data = ml_eke.pop_data(datapaths[0], datapaths[0], skip_vars = ['x','y','depth','depth_stdev'], extra_pref=None, first_suffix=first_suffixes[0])\n",
    "model_data.extend_inventory(datapaths[1],first_suffix=first_suffixes[1])\n",
    "\n",
    "X_train = np.load('./ml_eke/nn/data/X_train_cf_all_4_feat.npy')\n",
    "y_train = np.load('./ml_eke/nn/data/y_train_cf_all_4_feat.npy')\n",
    "\n",
    "num_samples = 365 # one year should be enough.\n",
    "dataset = get_samples(0, num_samples+1, columns, model_data, predictands=['MEKE_z'])"
   ]
  },
  {
   "cell_type": "code",
   "execution_count": 58,
   "id": "dangerous-telephone",
   "metadata": {},
   "outputs": [],
   "source": [
    "feats = dataset.values.copy()[:, 0:len(columns)]\n",
    "\n",
    "feats[:,[0,1,3]] = np.log(np.abs(feats[:,[0,1,3]]))*np.sign(feats[:,[0,1,3]])+36.0*np.sign(feats[:,[0,1,3]])\n",
    "\n",
    "feat_avg = np.mean(feats, axis=0, dtype=np.float64)\n",
    "feat_sd  = np.std(feats, axis=0, dtype=np.float64)\n",
    "\n",
    "targ_avg = np.mean(y_train, dtype=np.float64)\n",
    "targ_sd  = np.std(y_train, dtype=np.float64)"
   ]
  },
  {
   "cell_type": "code",
   "execution_count": null,
   "id": "daily-grain",
   "metadata": {},
   "outputs": [
    {
     "name": "stderr",
     "output_type": "stream",
     "text": [
      " 58%|█████▊    | 29962/51847 [13:54<10:08, 35.95it/s]"
     ]
    }
   ],
   "source": [
    "chunk_size = 1000\n",
    "preds = np.zeros((feats.shape[0],1))\n",
    "\n",
    "for chunk in tqdm(range(feats.shape[0]//chunk_size)):\n",
    "    loc_feats = torch.tensor(feats[chunk*chunk_size:(chunk+1)*chunk_size])\n",
    "    preds[chunk*chunk_size:(chunk+1)*chunk_size] = model_mse(loc_feats).detach().numpy()\n",
    "    \n",
    "if feats.shape[0]%chunk_size != 0:\n",
    "    chunk = feats.shape[0]//chunk_size\n",
    "    loc_feats = torch.tensor(feats[chunk*chunk_size:])\n",
    "    preds[chunk*chunk_size:] = model_mse(loc_feats).detach().numpy()\n",
    "    "
   ]
  },
  {
   "cell_type": "code",
   "execution_count": null,
   "id": "fleet-border",
   "metadata": {},
   "outputs": [],
   "source": [
    "pred_avg = np.mean(preds, dtype=np.float64)\n",
    "pred_sd  = np.std(preds, dtype=np.float64)"
   ]
  },
  {
   "cell_type": "code",
   "execution_count": null,
   "id": "annual-drink",
   "metadata": {},
   "outputs": [],
   "source": [
    "print(pred_avg, targ_avg, feat_avg)\n",
    "print(pred_sd,  targ_sd,  feat_sd)"
   ]
  },
  {
   "cell_type": "code",
   "execution_count": 64,
   "id": "married-qualification",
   "metadata": {},
   "outputs": [
    {
     "name": "stdout",
     "output_type": "stream",
     "text": [
      "tensor([[9.0608e-03, 8.4608e-04, 1.0457e-01, 1.8002e-06],\n",
      "        [1.1456e-02, 7.3167e-04, 1.0674e-01, 3.2575e-07]]) out\n",
      "tensor([[ 0.2169, -0.3312, -0.7533,  1.0755],\n",
      "        [ 0.3542, -0.3975, -0.7505,  0.9942]]) in\n",
      "tensor([[-15.0814],\n",
      "        [-13.3178]]) post-model\n",
      "tensor([[ 4.9864,  4.4309, -0.7533,  1.8533],\n",
      "        [ 4.9908,  4.4286, -0.7505,  1.8496]]) in\n",
      "tensor([[-17.2108],\n",
      "        [-17.2354]]) post-model\n",
      "tensor([[ 4.9864,  4.4309, -0.7533,  1.8533],\n",
      "        [ 4.9908,  4.4286, -0.7505,  1.8496]]) in\n",
      "tensor([[-17.2108],\n",
      "        [-17.2354]]) post-model\n",
      "tensor([[9.0608e-03, 8.4608e-04, 1.0457e-01, 1.8002e-06],\n",
      "        [1.1456e-02, 7.3167e-04, 1.0674e-01, 3.2575e-07],\n",
      "        [1.2707e-02, 6.2016e-04, 1.0481e-01, 2.1509e-07],\n",
      "        [1.3541e-02, 4.3923e-04, 1.0443e-01, 2.0890e-07]]) out\n",
      "return:  tensor([[-16.1620],\n",
      "        [-14.1003],\n",
      "        [-13.2681],\n",
      "        [-11.7515]], grad_fn=<AddBackward0>)\n"
     ]
    }
   ],
   "source": [
    "# torchscript\n",
    "model_mse.eval()\n",
    "\n",
    "class InferenceCell(torch.nn.Module):\n",
    "    \n",
    "    @torch.no_grad()\n",
    "    def __init__(self):\n",
    "        super(InferenceCell, self).__init__()\n",
    "        self.model = model_mse\n",
    "\n",
    "        self.feat_avg = torch.tensor([feat_avg], dtype=torch.float32)\n",
    "        self.feat_sd = torch.tensor([feat_sd], dtype=torch.float32)\n",
    "        self.targ_avg = torch.tensor([targ_avg], dtype=torch.float32)\n",
    "        self.targ_sd = torch.tensor([targ_sd], dtype=torch.float32)\n",
    "        self.pred_avg = torch.tensor([pred_avg], dtype=torch.float32)\n",
    "        self.pred_sd = torch.tensor([pred_sd], dtype=torch.float32)\n",
    "        \n",
    "        \n",
    "    @torch.no_grad()\n",
    "    def forward(self, x):\n",
    "        x[:,[0,1,3]] = torch.log(torch.abs(x[:,[0,1,3]]))*torch.sign(x[:,[0,1,3]])+36.0*torch.sign(x[:,[0,1,3]])\n",
    "        \n",
    "        x = (x - self.feat_avg) / self.feat_sd\n",
    "        print(x, 'in')\n",
    "        x = self.model(x)\n",
    "        print(x, 'post-model')\n",
    "        x = (x-self.pred_avg)/self.pred_sd*self.targ_sd+self.targ_avg\n",
    "        return x\n",
    "\n",
    "inference_cell = InferenceCell()\n",
    "x = torch.tensor(dataset.values.copy()[0:2,0:len(columns)])\n",
    "print(f'{x} out')\n",
    "traced_cell = torch.jit.trace(inference_cell, (x))\n",
    "#print(traced_cell.graph)\n",
    "x = torch.tensor(dataset.values.copy()[0:4,0:len(columns)])\n",
    "print(f'{x} out')\n",
    "print(\"return: \", traced_cell(x))\n",
    "traced_cell.save(f'./ml_eke/nn/pytorch/trained_models/{model_name}_for_2_3.pt')"
   ]
  },
  {
   "cell_type": "code",
   "execution_count": null,
   "id": "polish-anger",
   "metadata": {},
   "outputs": [],
   "source": []
  }
 ],
 "metadata": {
  "kernelspec": {
   "display_name": "conda_torch",
   "language": "python",
   "name": "conda_torch"
  },
  "language_info": {
   "codemirror_mode": {
    "name": "ipython",
    "version": 3
   },
   "file_extension": ".py",
   "mimetype": "text/x-python",
   "name": "python",
   "nbconvert_exporter": "python",
   "pygments_lexer": "ipython3",
   "version": "3.7.9"
  }
 },
 "nbformat": 4,
 "nbformat_minor": 5
}
