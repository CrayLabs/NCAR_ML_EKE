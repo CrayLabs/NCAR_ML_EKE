{
 "cells": [
  {
   "cell_type": "code",
   "execution_count": 1,
   "id": "completed-distribution",
   "metadata": {},
   "outputs": [],
   "source": [
    "import numpy as np # linear algebra\n",
    "import pandas as pd\n",
    "import torch\n",
    "import os\n",
    "import ml_eke\n",
    "from tqdm import tqdm\n",
    "import matplotlib.pyplot as plt\n"
   ]
  },
  {
   "cell_type": "code",
   "execution_count": 2,
   "id": "standing-still",
   "metadata": {},
   "outputs": [],
   "source": [
    "def get_samples(start, end, columns, model_data, predictands=['EKE_sfc']):\n",
    "\n",
    "    samples = []\n",
    "    targets = []\n",
    "    for sample in tqdm(range(start, end), desc=\"Extracting samples\"):\n",
    "        X, Y, mask = model_data.extract_sample_from_time(predictors=columns, predictands=predictands, sample_idx=sample)\n",
    "        samples.append(pd.DataFrame(X.data, columns=columns))\n",
    "        targets.append(pd.DataFrame(Y.data, columns=[\"EKE\"]))\n",
    "\n",
    "    data = pd.concat(samples).reset_index()\n",
    "    data.drop(\"index\", inplace=True, axis=1)\n",
    "    targets = pd.concat(targets).reset_index()\n",
    "    targets.drop(\"index\", inplace=True, axis=1)\n",
    "    data[\"EKE\"] = targets[\"EKE\"]\n",
    "    \n",
    "    return data\n"
   ]
  },
  {
   "cell_type": "code",
   "execution_count": 21,
   "id": "impressive-inquiry",
   "metadata": {},
   "outputs": [
    {
     "name": "stderr",
     "output_type": "stream",
     "text": [
      "Extracting samples: 100%|██████████| 365/365 [00:08<00:00, 45.15it/s]\n"
     ]
    }
   ],
   "source": [
    "columns_6_features = ['MKE_sfc',\n",
    "                      'slope_z',\n",
    "                      'Rd_dx_z',\n",
    "                      'relative_vorticity_sfc',\n",
    "                      'divergence_sfc',\n",
    "                      'deformation_sfc'\n",
    "                      ]\n",
    "\n",
    "columns_4_features = columns_6_features[0:4]\n",
    "\n",
    "columns_5_features = columns_4_features + ['grad_SSH_sfc']\n",
    "\n",
    "columns = columns_4_features\n",
    "\n",
    "model_path = './ml_eke/nn/pytorch/trained_models/ResNetSmall_4_custom.pkl'\n",
    "model_name = os.path.basename(model_path).split('.')[0]\n",
    "\n",
    "model_mse = torch.load(model_path, map_location=torch.device('cpu'))\n",
    "\n",
    "datapaths_2_3 = ('/lus/scratch/ashao/data/2_3/', '/lus/scratch/ashao/data/2_3_SSH/')\n",
    "first_suffixes_2_3 = ('_01_001.nc', '_16_001.nc')\n",
    "datapaths_1_4 = ('/lus/scratch/ashao/data/1_4/', '/lus/scratch/ashao/data/1_4_SSH/')\n",
    "first_suffixes_1_4 = ('_1915_001.nc', '_18_001.nc')\n",
    "\n",
    "datapaths = datapaths_2_3\n",
    "first_suffixes = first_suffixes_2_3\n",
    "\n",
    "last_dir = os.path.normpath(datapaths[0]).split(os.sep)[-1]\n",
    "\n",
    "model_data = ml_eke.pop_data(datapaths[0], datapaths[0], skip_vars = ['x','y','depth','depth_stdev'], extra_pref=None, first_suffix=first_suffixes[0])\n",
    "model_data.extend_inventory(datapaths[1],first_suffix=first_suffixes[1])\n",
    "\n",
    "X_train = np.load('./ml_eke/nn/data/X_train_cf_all_4_feat.npy')\n",
    "y_train = np.load('./ml_eke/nn/data/y_train_cf_all_4_feat.npy')\n",
    "\n",
    "num_samples = 365 # one year should be enough.\n",
    "dataset = get_samples(0, num_samples, columns, model_data, predictands=['MEKE_z'])"
   ]
  },
  {
   "cell_type": "code",
   "execution_count": 26,
   "id": "negative-villa",
   "metadata": {},
   "outputs": [],
   "source": [
    "feats = dataset.values.copy()[:, 0:len(columns)]\n",
    "\n",
    "feats[:,[0,1,3]] = np.log(np.abs(feats[:,[0,1,3]]))*np.sign(feats[:,[0,1,3]])+36.0*np.sign(feats[:,[0,1,3]])\n",
    "\n",
    "feat_avg = np.mean(feats, axis=0, dtype=np.float64)\n",
    "feat_sd  = np.std(feats, axis=0, dtype=np.float64)\n",
    "\n",
    "feats = (feats-feat_avg)/feat_sd"
   ]
  },
  {
   "cell_type": "code",
   "execution_count": 26,
   "id": "fancy-monday",
   "metadata": {},
   "outputs": [],
   "source": [
    "targ_avg = np.mean(y_train, dtype=np.float64)\n",
    "targ_sd  = np.std(y_train, dtype=np.float64)"
   ]
  },
  {
   "cell_type": "code",
   "execution_count": 95,
   "id": "operating-defendant",
   "metadata": {},
   "outputs": [
    {
     "name": "stderr",
     "output_type": "stream",
     "text": [
      "  0%|          | 1/5170 [00:00<46:51,  1.84it/s]"
     ]
    },
    {
     "name": "stdout",
     "output_type": "stream",
     "text": [
      "[[-5.57154036]\n",
      " [-5.08483839]\n",
      " [-4.95142841]\n",
      " [-4.87737179]\n",
      " [-4.61313963]\n",
      " [-4.6920557 ]\n",
      " [-4.65319967]\n",
      " [-4.9012332 ]\n",
      " [-5.34919882]\n",
      " [-5.74147463]]\n"
     ]
    },
    {
     "name": "stderr",
     "output_type": "stream",
     "text": [
      "100%|██████████| 5170/5170 [25:12<00:00,  3.42it/s]\n"
     ]
    }
   ],
   "source": [
    "chunk_size = 10000\n",
    "preds = np.zeros((feats.shape[0],1))\n",
    "\n",
    "for chunk in tqdm(range(feats.shape[0]//chunk_size)):\n",
    "    loc_feats = torch.tensor(feats[chunk*chunk_size:(chunk+1)*chunk_size,:], dtype=torch.float32)\n",
    "    preds[chunk*chunk_size:(chunk+1)*chunk_size] = model_mse(loc_feats).detach().numpy()\n",
    "    if chunk == 0:\n",
    "        print(preds[:10, :])\n",
    "    \n",
    "if feats.shape[0]%chunk_size != 0:\n",
    "    chunk = feats.shape[0]//chunk_size\n",
    "    loc_feats = torch.tensor(feats[chunk*chunk_size:,:], dtype=torch.float32)\n",
    "    preds[chunk*chunk_size:] = model_mse(loc_feats).detach().numpy()\n",
    "    "
   ]
  },
  {
   "cell_type": "code",
   "execution_count": 115,
   "id": "pregnant-hometown",
   "metadata": {},
   "outputs": [
    {
     "name": "stdout",
     "output_type": "stream",
     "text": [
      "0\n"
     ]
    }
   ],
   "source": [
    "print(np.sum(preds==0.0))\n",
    "# Can't use all preds, because of overflows. Use 10M. OK, next time do this before computing the preds.\n",
    "ids = np.random.choice(preds.shape[0], size=10000000, replace=False);\n",
    "pred_avg = np.mean(preds[ids], dtype=np.float64)\n",
    "pred_sd  = np.std(preds[ids], dtype=np.float64)\n"
   ]
  },
  {
   "cell_type": "code",
   "execution_count": 116,
   "id": "unknown-estimate",
   "metadata": {},
   "outputs": [
    {
     "name": "stdout",
     "output_type": "stream",
     "text": [
      "-5.723821309455049 -5.17934491016621 array([30.92578546, 29.65081059,  0.70335406,  0.15926934])\n",
      "1.0059181107879616 0.9947459262875877 array([ 1.70855685,  2.19210219,  0.79489046, 21.02535184])\n"
     ]
    }
   ],
   "source": [
    "print(repr(pred_avg), targ_avg, repr(feat_avg))\n",
    "print(pred_sd,  targ_sd,  repr(feat_sd))"
   ]
  },
  {
   "cell_type": "code",
   "execution_count": 106,
   "id": "median-socket",
   "metadata": {},
   "outputs": [
    {
     "name": "stdout",
     "output_type": "stream",
     "text": [
      "return:  [[-5.077671 ]\n",
      " [-4.563232 ]\n",
      " [-4.4222174]\n",
      " [-4.343941 ]\n",
      " [-4.0646496]\n",
      " [-4.1480637]\n",
      " [-4.106992 ]\n",
      " [-4.3691616]\n",
      " [-4.842657 ]\n",
      " [-5.2572885]]\n"
     ]
    }
   ],
   "source": [
    "# torchscript\n",
    "model_mse.eval()\n",
    "\n",
    "class InferenceCell(torch.nn.Module):\n",
    "    \n",
    "    def __init__(self):\n",
    "        super(InferenceCell, self).__init__()\n",
    "        self.model = model_mse\n",
    "\n",
    "        self.feat_avg = torch.tensor(feat_avg, dtype=torch.float32)\n",
    "        self.feat_sd = torch.tensor(feat_sd, dtype=torch.float32)\n",
    "        self.targ_avg = torch.tensor(targ_avg, dtype=torch.float32)\n",
    "        self.targ_sd = torch.tensor(targ_sd, dtype=torch.float32)\n",
    "        self.pred_avg = torch.tensor(pred_avg, dtype=torch.float32)\n",
    "        self.pred_sd = torch.tensor(pred_sd, dtype=torch.float32)\n",
    "        \n",
    "    def forward(self, x):\n",
    "        x[:,[0,1,3]] = torch.log(torch.abs(x[:,[0,1,3]]))*torch.sign(x[:,[0,1,3]])+36.0*torch.sign(x[:,[0,1,3]])\n",
    "        x1 = (x - self.feat_avg) / self.feat_sd\n",
    "        x2 = self.model(x1)\n",
    "        x3 = x2 - self.pred_avg\n",
    "        x4 = x3 / self.pred_sd\n",
    "        x5 = x4 * self.targ_sd\n",
    "        x6 = x5 + self.targ_avg\n",
    "        \n",
    "        return x6\n",
    "\n",
    "inference_cell = InferenceCell()\n",
    "x = torch.tensor(dataset.values.copy()[0:10,0:len(columns)])\n",
    "#print(f'{x} out')\n",
    "traced_cell = torch.jit.trace(inference_cell, (x))\n",
    "#print(traced_cell.code)\n",
    "x = torch.tensor(dataset.values.copy()[0:10,0:len(columns)])\n",
    "#print(f'{x} out')\n",
    "print(\"return: \", traced_cell(x).detach().numpy())\n"
   ]
  },
  {
   "cell_type": "code",
   "execution_count": 107,
   "id": "sapphire-valve",
   "metadata": {},
   "outputs": [
    {
     "name": "stdout",
     "output_type": "stream",
     "text": [
      "[[-5.57154036]\n",
      " [-5.08483839]\n",
      " [-4.95142841]\n",
      " [-4.87737179]\n",
      " [-4.61313963]\n",
      " [-4.6920557 ]\n",
      " [-4.65319967]\n",
      " [-4.9012332 ]\n",
      " [-5.34919882]\n",
      " [-5.74147463]]\n",
      "[[ 0.21679954 -0.33105676 -0.75329554  1.07551771]\n",
      " [ 0.35406937 -0.39733056 -0.75055879  0.99420877]\n",
      " [ 0.41475531 -0.47276042 -0.75298457  0.97446748]\n",
      " [ 0.45192979 -0.63012153 -0.75346326  0.97307824]\n",
      " [ 0.47283457 -1.29493727 -0.75096281  0.96675838]\n",
      " [ 0.48238384 -1.51427562 -0.74641188  0.96039815]\n",
      " [ 0.47231882 -1.18734416 -0.74088107  0.96461565]\n",
      " [ 0.43794526 -0.52951793 -0.73613451  0.98438444]\n",
      " [ 0.36488346  0.01241182 -0.73698827  1.0215631 ]\n",
      " [ 0.22710346  0.14936821 -0.73914171  1.05081503]]\n",
      "[[-5.5715404]\n",
      " [-5.0848384]\n",
      " [-4.9514284]\n",
      " [-4.877372 ]\n",
      " [-4.6131396]\n",
      " [-4.6920557]\n",
      " [-4.6531997]\n",
      " [-4.901233 ]\n",
      " [-5.349199 ]\n",
      " [-5.7414746]]\n"
     ]
    }
   ],
   "source": [
    "print(preds[0:10])\n",
    "print(feats[:10, :4])\n",
    "print(model_mse(torch.tensor(feats[:10, :4], dtype=torch.float32)).detach().numpy())"
   ]
  },
  {
   "cell_type": "code",
   "execution_count": 108,
   "id": "alpha-birth",
   "metadata": {},
   "outputs": [],
   "source": [
    "save = True\n",
    "load = False\n",
    "\n",
    "last_dir = os.path.normpath(datapaths[0]).split(os.sep)[-1]\n",
    "if save:\n",
    "    traced_cell.save(f'./ml_eke/nn/pytorch/trained_models/{model_name}_for_{last_dir}.pt')\n",
    "    \n",
    "if load:\n",
    "    traced_cell = torch.jit.load(f'./ml_eke/nn/pytorch/trained_models/{model_name}_for_{last_dir}.pt')\n",
    "    \n"
   ]
  },
  {
   "cell_type": "code",
   "execution_count": 109,
   "id": "racial-samba",
   "metadata": {},
   "outputs": [
    {
     "name": "stdout",
     "output_type": "stream",
     "text": [
      "Elapsed time 2.9712846279144287\n"
     ]
    }
   ],
   "source": [
    "from time import time\n",
    "\n",
    "XX = torch.tensor(dataset.values.copy()[0:100000, 0:len(columns)])\n",
    "\n",
    "t1 = time()\n",
    "y = traced_cell(XX)\n",
    "t2 = time()\n",
    "\n",
    "y = y.detach().numpy()\n",
    "print(f'Elapsed time {t2-t1}')\n"
   ]
  },
  {
   "cell_type": "code",
   "execution_count": 112,
   "id": "respiratory-oriental",
   "metadata": {},
   "outputs": [
    {
     "data": {
      "image/png": "[encoded data removed]",
      "text/plain": [
       "<Figure size 1152x1152 with 1 Axes>"
      ]
     },
     "metadata": {
      "needs_background": "light"
     },
     "output_type": "display_data"
    }
   ],
   "source": [
    "plt.figure(figsize=(16,16))\n",
    "plt.hist(y, bins=100, density=True, alpha=0.2, color='red')\n",
    "plt.hist(y_train, bins=100, density=True, alpha=0.2)\n",
    "#plt.hist(preds, bins=100, density=True, alpha=0.2)\n",
    "plt.draw()"
   ]
  },
  {
   "cell_type": "code",
   "execution_count": 101,
   "id": "heavy-nature",
   "metadata": {},
   "outputs": [
    {
     "name": "stdout",
     "output_type": "stream",
     "text": [
      "-5.100686843298917 -5.17934491016621\n",
      "0.6228471205961198 0.9947459262875877\n"
     ]
    }
   ],
   "source": [
    "print(np.mean((preds[0:1000001]-pred_avg)/pred_sd*targ_sd+targ_avg, dtype=np.float64), np.mean(y_train, dtype=np.float64))\n",
    "print(np.std((preds[0:1000001]-pred_avg)/pred_sd*targ_sd+targ_avg, dtype=np.float64), np.std(y_train, dtype=np.float64))"
   ]
  },
  {
   "cell_type": "code",
   "execution_count": 46,
   "id": "veterinary-worcester",
   "metadata": {},
   "outputs": [
    {
     "data": {
      "image/png": "[encoded data removed]",
      "text/plain": [
       "<Figure size 1152x1152 with 4 Axes>"
      ]
     },
     "metadata": {
      "needs_background": "light"
     },
     "output_type": "display_data"
    }
   ],
   "source": [
    "plt.figure(figsize=(16,16))\n",
    "\n",
    "\n",
    "for i in range(feats.shape[1]):\n",
    "    plt.subplot(feats.shape[1], 1, i+1)\n",
    "    plt.hist(dataset.values[:,i], bins=1000, alpha=0.5, density=True)\n",
    "    #plt.hist(X_train[:,i], bins=1000, alpha=0.5, density=True)\n",
    "    \n",
    "plt.draw()"
   ]
  },
  {
   "cell_type": "code",
   "execution_count": null,
   "id": "demographic-overall",
   "metadata": {},
   "outputs": [],
   "source": []
  }
 ],
 "metadata": {
  "kernelspec": {
   "display_name": "conda_torch",
   "language": "python",
   "name": "conda_torch"
  },
  "language_info": {
   "codemirror_mode": {
    "name": "ipython",
    "version": 3
   },
   "file_extension": ".py",
   "mimetype": "text/x-python",
   "name": "python",
   "nbconvert_exporter": "python",
   "pygments_lexer": "ipython3",
   "version": "3.7.9"
  }
 },
 "nbformat": 4,
 "nbformat_minor": 5
}
