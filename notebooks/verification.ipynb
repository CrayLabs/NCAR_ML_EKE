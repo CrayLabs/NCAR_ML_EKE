{
 "cells": [
  {
   "cell_type": "markdown",
   "id": "manufactured-violation",
   "metadata": {},
   "source": [
    "# Verification\n",
    "In this notebook, we run the neural networks on samples coming from different simulation, i.e. simulations in which the spatial resolution is lower. We will use 1/4th and 2/3rds of a degree."
   ]
  },
  {
   "cell_type": "code",
   "execution_count": 1,
   "id": "impressed-wallace",
   "metadata": {},
   "outputs": [],
   "source": [
    "import numpy as np # linear algebra\n",
    "import pandas as pd # data processing, CSV file I/O (e.g. pd.read_csv)\n",
    "import matplotlib.pyplot as plt\n",
    "plt.style.use('fivethirtyeight')\n",
    "\n",
    "from sklearn.preprocessing import StandardScaler\n",
    "\n",
    "from tqdm import tqdm\n",
    "from pickle import dump, load\n",
    "\n",
    "from scipy import ndimage as nd\n",
    "\n",
    "import torch\n",
    "from torchsummary import summary\n",
    "\n",
    "import os\n",
    "\n",
    "from utils import *"
   ]
  },
  {
   "cell_type": "code",
   "execution_count": 2,
   "id": "purple-conditions",
   "metadata": {},
   "outputs": [],
   "source": [
    "columns = ['MKE_sfc',\n",
    "           'Rd_dx_sfc',\n",
    "           'relative_vorticity_sfc',\n",
    "           'grad_SSH_sfc']"
   ]
  },
  {
   "cell_type": "markdown",
   "id": "governing-roots",
   "metadata": {},
   "source": [
    "Here we can decide if we want to load the 1/4 or the 2/3 degree model."
   ]
  },
  {
   "cell_type": "code",
   "execution_count": 5,
   "id": "turned-needle",
   "metadata": {},
   "outputs": [],
   "source": [
    "model_path = '../ml_eke/nn/trained_models/ResNet_4_custom.pkl'\n",
    "model_name = os.path.basename(model_path).split('.')[0]\n",
    "\n",
    "#if you have a GPU, set to device='cuda'\n",
    "device = 'cpu'\n",
    "\n",
    "model_mse = torch.load(model_path, map_location=torch.device(device))\n",
    "model_mse.eval()\n",
    "\n",
    "scaler = np.load('./data/scaler_cf_all_4.npy')\n",
    "\n",
    "datapaths_2_3 = ('./data/2_3_SSH/', './data/2_3_SSH/')\n",
    "first_suffixes_2_3 = ('_16_001.nc', '_16_001.nc')\n",
    "predictand_2_3 = ['MEKE_sfc']\n",
    "\n",
    "datapaths_1_4 = ('./data/1_4_SSH/', './data/1_4_SSH/')\n",
    "first_suffixes_1_4 = ('_1916_001.nc', '_18_001.nc')\n",
    "predictand_1_4 = ['MEKE_z']\n",
    "\n",
    "datapaths = datapaths_2_3\n",
    "first_suffixes = first_suffixes_2_3\n",
    "predictand = predictand_2_3\n",
    "\n",
    "model_data = pop_data(datapaths[0], datapaths[0], skip_vars = ['x','y','depth','depth_stdev'], extra_pref=None, first_suffix=first_suffixes[0])\n"
   ]
  },
  {
   "cell_type": "code",
   "execution_count": 6,
   "id": "alike-dictionary",
   "metadata": {},
   "outputs": [],
   "source": [
    "# Depending on what the device is\n",
    "predict_cpu = lambda model, X: model(torch.tensor(X.values)).detach().numpy()\n",
    "predict_gpu = lambda model, X: model(torch.tensor(X.values).cuda()).cpu().detach().numpy()\n",
    "\n",
    "predict = predict_gpu if device=='cuda' else predict_cpu"
   ]
  },
  {
   "cell_type": "code",
   "execution_count": null,
   "id": "treated-detective",
   "metadata": {},
   "outputs": [
    {
     "name": "stderr",
     "output_type": "stream",
     "text": [
      "Extracting 2D samples: 0it [00:00, ?it/s]\n",
      "/lus/sonexion/arigazzi/NCAR_ML_EKE/notebooks/utils.py:256: RuntimeWarning: divide by zero encountered in log\n",
      "  y[:,i] = np.log(y[:,i])\n"
     ]
    },
    {
     "name": "stdout",
     "output_type": "stream",
     "text": [
      "Dropping empty values...\n",
      "Dropping negative EKE samples...\n",
      "Removing EKE from features...\n",
      "log(MKE_sfc)\n",
      "id(Rd_dx_sfc)\n",
      "log(abs(relative_vorticity_sfc))*sign\n",
      "log(grad_SSH_sfc)\n",
      "Scaling data with provided scaler...\n"
     ]
    }
   ],
   "source": [
    "sample_id = 35\n",
    "\n",
    "sample, target, mask = get_samples_2D(sample_id, sample_id+1, columns, model_data, predictands=predictand)\n",
    "\n",
    "disp_sample, disp_target, disp_pred_mse = prep_maps(sample, target, mask, scaler=scaler,\n",
    "                                                    model=model_mse, columns=columns, predict_fn=predict,\n",
    "                                                    abs_val=[False, True, True, False], \n",
    "                                                    clean_after_reg=True, skip_vars=[columns[1]])\n",
    "mask_s = mask.squeeze()"
   ]
  },
  {
   "cell_type": "code",
   "execution_count": null,
   "id": "close-lottery",
   "metadata": {},
   "outputs": [],
   "source": [
    "last_dir = os.path.normpath(datapaths[0]).split(os.sep)[-1]\n",
    "scales='fixed'\n",
    "savefig = False\n",
    "\n",
    "if scales == 'adaptive':\n",
    "    vmin = min(np.min(disp_target[mask_s]),\n",
    "    np.min(disp_pred_mse[mask_s]))\n",
    "    vmax = max(np.max(disp_target[mask_s]),\n",
    "    np.max(disp_pred_mse[mask_s]))\n",
    "elif scales == 'fixed':\n",
    "    vmin = -3\n",
    "    vmax = -0\n",
    "else:\n",
    "    scales='free'\n",
    "\n",
    "plt.figure(figsize=(16,6))\n",
    "\n",
    "plt.subplot(1,2,1)\n",
    "if scales != 'free':\n",
    "    plt.pcolormesh(np.log10(np.exp(disp_target)), vmin=vmin, vmax=vmax)\n",
    "else:\n",
    "    plt.pcolormesh(np.log10(np.exp(disp_target)))\n",
    "plt.axis('equal')\n",
    "plt.colorbar()\n",
    "plt.title(f'{last_dir} MEKE_z')\n",
    "plt.subplot(1,2,2)\n",
    "if scales != 'free':\n",
    "    plt.pcolormesh(np.log10(np.exp(disp_pred_mse)), vmin=vmin, vmax=vmax)\n",
    "else:\n",
    "    plt.pcolormesh(np.log10(np.exp(disp_pred_mse)))\n",
    "plt.title(f'{last_dir} {model_name}')\n",
    "plt.colorbar()\n",
    "plt.axis('equal')\n",
    "plt.draw()\n",
    "\n",
    "if savefig:\n",
    "    plt.savefig(f'{model_name}_{last_dir}_{scales}.png')"
   ]
  },
  {
   "cell_type": "code",
   "execution_count": null,
   "id": "40b720ca-a012-49ef-b4b6-b61898b390a6",
   "metadata": {},
   "outputs": [],
   "source": []
  }
 ],
 "metadata": {
  "kernelspec": {
   "display_name": "ncar",
   "language": "python",
   "name": "ncar"
  },
  "language_info": {
   "codemirror_mode": {
    "name": "ipython",
    "version": 3
   },
   "file_extension": ".py",
   "mimetype": "text/x-python",
   "name": "python",
   "nbconvert_exporter": "python",
   "pygments_lexer": "ipython3",
   "version": "3.6.12"
  }
 },
 "nbformat": 4,
 "nbformat_minor": 5
}
